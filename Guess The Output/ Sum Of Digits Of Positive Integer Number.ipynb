{
 "cells": [
  {
   "cell_type": "markdown",
   "metadata": {},
   "source": [
    "##  Sum Of Digits Of Positive Integer Number"
   ]
  },
  {
   "cell_type": "code",
   "execution_count": 3,
   "metadata": {},
   "outputs": [
    {
     "name": "stdout",
     "output_type": "stream",
     "text": [
      "enter the  value  to find the value of sum of digits : 5623\n",
      "the value of sum of digits :  16\n"
     ]
    }
   ],
   "source": [
    "a = int(input(\"enter the  value  to find the value of sum of digits : \"))\n",
    "\n",
    "s = 0\n",
    "n = a \n",
    "while n>0:\n",
    "    r = n%10\n",
    "    s = s+r\n",
    "    n = n//10\n",
    "    \n",
    "print('the value of sum of digits : ',s)"
   ]
  },
  {
   "cell_type": "code",
   "execution_count": null,
   "metadata": {},
   "outputs": [],
   "source": []
  }
 ],
 "metadata": {
  "kernelspec": {
   "display_name": "Python 3",
   "language": "python",
   "name": "python3"
  },
  "language_info": {
   "codemirror_mode": {
    "name": "ipython",
    "version": 3
   },
   "file_extension": ".py",
   "mimetype": "text/x-python",
   "name": "python",
   "nbconvert_exporter": "python",
   "pygments_lexer": "ipython3",
   "version": "3.7.6"
  }
 },
 "nbformat": 4,
 "nbformat_minor": 4
}
