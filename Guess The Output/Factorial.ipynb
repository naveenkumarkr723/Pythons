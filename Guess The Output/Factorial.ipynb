{
 "cells": [
  {
   "cell_type": "markdown",
   "metadata": {},
   "source": [
    "## Factorial Program using In-Built Function"
   ]
  },
  {
   "cell_type": "code",
   "execution_count": 3,
   "metadata": {},
   "outputs": [
    {
     "name": "stdout",
     "output_type": "stream",
     "text": [
      "please enter the any number to find its factorial6\n",
      "the factorial of a 6 is 720\n"
     ]
    }
   ],
   "source": [
    "import math \n",
    "\n",
    "n = int(input(\"please enter the any number to find its factorial\"))\n",
    "\n",
    "\n",
    "factorial = math.factorial(n)\n",
    "\n",
    "print(\"the factorial of a {} is {}\".format(n,factorial))"
   ]
  },
  {
   "cell_type": "markdown",
   "metadata": {},
   "source": [
    "## Factorial Program Using Recursion"
   ]
  },
  {
   "cell_type": "code",
   "execution_count": 13,
   "metadata": {},
   "outputs": [
    {
     "name": "stdout",
     "output_type": "stream",
     "text": [
      "please enter the any number to find its factorial5\n",
      "the factorial of a 5 is 120\n"
     ]
    }
   ],
   "source": [
    "def facto(n):\n",
    "    if n ==0 or n==1 :\n",
    "        return 1\n",
    "    else:\n",
    "        return n*facto(n-1)\n",
    "        \n",
    "n = int(input(\"please enter the any number to find its factorial\"))\n",
    "fact = facto(n)\n",
    "print(\"the factorial of a {} is {}\".format(n,fact))  "
   ]
  },
  {
   "cell_type": "markdown",
   "metadata": {},
   "source": [
    "## Factorial Program Using for loop"
   ]
  },
  {
   "cell_type": "code",
   "execution_count": 12,
   "metadata": {},
   "outputs": [
    {
     "name": "stdout",
     "output_type": "stream",
     "text": [
      "please enter the any number to find its factorial5\n",
      "the factorial of a 5 is 120\n"
     ]
    }
   ],
   "source": [
    "n = int(input(\"please enter the any number to find its factorial\"))\n",
    "\n",
    "fact = 1\n",
    "for i in range(1,n+1):\n",
    "    fact = fact*i\n",
    "    \n",
    "print(\"the factorial of a {} is {}\".format(n,fact))  "
   ]
  },
  {
   "cell_type": "code",
   "execution_count": null,
   "metadata": {},
   "outputs": [],
   "source": []
  }
 ],
 "metadata": {
  "kernelspec": {
   "display_name": "Python 3",
   "language": "python",
   "name": "python3"
  },
  "language_info": {
   "codemirror_mode": {
    "name": "ipython",
    "version": 3
   },
   "file_extension": ".py",
   "mimetype": "text/x-python",
   "name": "python",
   "nbconvert_exporter": "python",
   "pygments_lexer": "ipython3",
   "version": "3.7.6"
  }
 },
 "nbformat": 4,
 "nbformat_minor": 4
}
