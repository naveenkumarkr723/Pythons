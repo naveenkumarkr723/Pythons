{
 "cells": [
  {
   "cell_type": "code",
   "execution_count": 4,
   "metadata": {},
   "outputs": [
    {
     "name": "stdout",
     "output_type": "stream",
     "text": [
      "x value is : False\n"
     ]
    }
   ],
   "source": [
    "x = []\n",
    "\n",
    "\n",
    "\n",
    "if x:\n",
    "    print(\"x value is :\",True)\n",
    "else:\n",
    "    print(\"x value is :\",False)\n",
    "    \n",
    "#### in python anything is empty  -->  considered as the false \n",
    "## x = \" \", False, 0 ,[], {}, (), None  --> are considered as false"
   ]
  },
  {
   "cell_type": "code",
   "execution_count": 5,
   "metadata": {},
   "outputs": [
    {
     "name": "stdout",
     "output_type": "stream",
     "text": [
      "True\n"
     ]
    }
   ],
   "source": [
    "p = (1,10)\n",
    "q = 0 \n",
    "r = []\n",
    "\n",
    "if p or q and r :\n",
    "    print(True)\n",
    "else:\n",
    "    print(False)"
   ]
  },
  {
   "cell_type": "code",
   "execution_count": 6,
   "metadata": {},
   "outputs": [
    {
     "name": "stdout",
     "output_type": "stream",
     "text": [
      "['ABC', 'XYZ', 'pqR']\n"
     ]
    },
    {
     "data": {
      "text/plain": [
       "'string anything'"
      ]
     },
     "execution_count": 6,
     "metadata": {},
     "output_type": "execute_result"
    }
   ],
   "source": [
    "list1 = [\"ABC\",\"XYZ\",\"pqR\"]\n",
    "\n",
    "for i in list1:\n",
    "    i.lower()\n",
    "    \n",
    "print(list1)\n",
    "\n",
    "### lower method cannot modify the original values  it will return the another string with lower case string\n",
    "\n",
    "a = \"STRING ANYTHING\"\n",
    "b = a.lower()\n",
    "b"
   ]
  },
  {
   "cell_type": "code",
   "execution_count": 7,
   "metadata": {},
   "outputs": [
    {
     "data": {
      "text/plain": [
       "(['ABC', 'XYZ'], ['ABC', 'XYZ'])"
      ]
     },
     "execution_count": 7,
     "metadata": {},
     "output_type": "execute_result"
    }
   ],
   "source": [
    "lis = [\"ABC\",\"XYZ\"]\n",
    "lis2 = []\n",
    "for i in lis:\n",
    "    lis2.append(i)\n",
    "    \n",
    "    \n",
    "lis2,lis\n",
    "\n",
    "### below the code will run infinite times\n",
    "\"\"\"lis = [\"ABC\",\"XYZ\"]\n",
    "for i in lis:\n",
    "    lis.append(i)\n",
    "print(lis)\"\"\""
   ]
  },
  {
   "cell_type": "code",
   "execution_count": 10,
   "metadata": {},
   "outputs": [
    {
     "name": "stdout",
     "output_type": "stream",
     "text": [
      "1\n",
      "2\n",
      "3\n",
      "4\n",
      "\n",
      "\n",
      "1\n",
      "2\n",
      "3\n",
      "4\n",
      "5\n",
      "hello\n"
     ]
    }
   ],
   "source": [
    "for i in range(1,20):\n",
    "    if i == 5 :\n",
    "        break\n",
    "    else:\n",
    "        print( i )\n",
    "else:\n",
    "    print(\"hello\")\n",
    "    \n",
    "print(\"\\n\")    \n",
    "### else statement only executed when the for loop is not terminated by the break statement\n",
    "\n",
    "for i in range(1,20):\n",
    "    if i > 5 :\n",
    "        continue\n",
    "    else:\n",
    "        print( i )\n",
    "else:\n",
    "    print(\"hello\")\n",
    "    "
   ]
  },
  {
   "cell_type": "code",
   "execution_count": 11,
   "metadata": {},
   "outputs": [
    {
     "name": "stdout",
     "output_type": "stream",
     "text": [
      "[['sum', 'words']]\n",
      "['sum', 'words']\n",
      "r\n"
     ]
    }
   ],
   "source": [
    "lista = [\"these \",\"are\",\"the\",[\"sum\",'words'],\"we\",\"are\",\"going\",\"to \",\"use\"]\n",
    "\n",
    "print(lista[3:4])\n",
    "print(lista[3:4][0])\n",
    "print(lista[3:4][0][1][2])"
   ]
  },
  {
   "cell_type": "code",
   "execution_count": 12,
   "metadata": {},
   "outputs": [
    {
     "name": "stdout",
     "output_type": "stream",
     "text": [
      "[1, None, 2, None, 3, None]\n"
     ]
    }
   ],
   "source": [
    "def func(n , list1 =[]):\n",
    "    list1.append(list1.append(n))\n",
    "    return list1\n",
    "\n",
    "\n",
    "for i in range(1,4):\n",
    "    list2 = func(i)\n",
    "    \n",
    "print(list2)"
   ]
  },
  {
   "cell_type": "code",
   "execution_count": 15,
   "metadata": {},
   "outputs": [
    {
     "name": "stdout",
     "output_type": "stream",
     "text": [
      "4\n",
      "3\n",
      "10\n",
      "20\n",
      "\n",
      "3\n",
      "4\n",
      "10\n",
      "20\n",
      "\n",
      "20\n",
      "10\n",
      "4\n",
      "3\n",
      "\n"
     ]
    },
    {
     "ename": "TypeError",
     "evalue": "'NoneType' object is not iterable",
     "output_type": "error",
     "traceback": [
      "\u001b[1;31m---------------------------------------------------------------------------\u001b[0m",
      "\u001b[1;31mTypeError\u001b[0m                                 Traceback (most recent call last)",
      "\u001b[1;32m<ipython-input-15-d1ed7ceadf59>\u001b[0m in \u001b[0;36m<module>\u001b[1;34m\u001b[0m\n\u001b[0;32m     11\u001b[0m \u001b[0mprint\u001b[0m\u001b[1;33m(\u001b[0m\u001b[1;33m)\u001b[0m\u001b[1;33m\u001b[0m\u001b[1;33m\u001b[0m\u001b[0m\n\u001b[0;32m     12\u001b[0m \u001b[1;33m\u001b[0m\u001b[0m\n\u001b[1;32m---> 13\u001b[1;33m \u001b[1;32mfor\u001b[0m \u001b[0mi\u001b[0m \u001b[1;32min\u001b[0m \u001b[1;33m[\u001b[0m\u001b[1;36m20\u001b[0m\u001b[1;33m,\u001b[0m\u001b[1;36m10\u001b[0m\u001b[1;33m,\u001b[0m\u001b[1;36m3\u001b[0m\u001b[1;33m,\u001b[0m\u001b[1;36m4\u001b[0m\u001b[1;33m]\u001b[0m\u001b[1;33m.\u001b[0m\u001b[0msort\u001b[0m\u001b[1;33m(\u001b[0m\u001b[1;33m)\u001b[0m\u001b[1;33m:\u001b[0m\u001b[1;33m\u001b[0m\u001b[1;33m\u001b[0m\u001b[0m\n\u001b[0m\u001b[0;32m     14\u001b[0m     \u001b[0mprint\u001b[0m\u001b[1;33m(\u001b[0m\u001b[0mi\u001b[0m\u001b[1;33m)\u001b[0m\u001b[1;33m\u001b[0m\u001b[1;33m\u001b[0m\u001b[0m\n\u001b[0;32m     15\u001b[0m \u001b[1;33m\u001b[0m\u001b[0m\n",
      "\u001b[1;31mTypeError\u001b[0m: 'NoneType' object is not iterable"
     ]
    }
   ],
   "source": [
    "for i in [20,10,3,4][::-1]:\n",
    "    print(i)\n",
    "print()    \n",
    "\n",
    "for i in sorted([20,10,3,4]):\n",
    "    print(i)\n",
    "print()    \n",
    "\n",
    "for i in sorted([20,10,3,4],reverse = True):\n",
    "    print(i)\n",
    "print()    \n",
    "\n",
    "for i in [20,10,3,4].sort():\n",
    "    print(i)\n",
    "    \n",
    "### sort method cannot return the value it modifies the original values thus we are getting the error"
   ]
  },
  {
   "cell_type": "code",
   "execution_count": 21,
   "metadata": {},
   "outputs": [
    {
     "name": "stdout",
     "output_type": "stream",
     "text": [
      "{1: 3, '1': 2, 'a': 5}\n",
      "10\n"
     ]
    }
   ],
   "source": [
    "a = {}\n",
    "a[1]=1\n",
    "a['1'] = 2\n",
    "a[1] = a[1] +2\n",
    "a['a'] = a['1']+3\n",
    "print(a)\n",
    "\n",
    "count = 0\n",
    "for i in a :\n",
    "    count += a[i]\n",
    "    \n",
    "print(count)"
   ]
  },
  {
   "cell_type": "code",
   "execution_count": 24,
   "metadata": {},
   "outputs": [
    {
     "name": "stdout",
     "output_type": "stream",
     "text": [
      "None\n"
     ]
    }
   ],
   "source": [
    "string  = \"iam jadi naveen kumar ,btech in vnit\"\n",
    "i = \"p\"\n",
    "\n",
    "while i in string:\n",
    "    print(i,end = \" \")\n",
    "    break\n",
    "else:\n",
    "    print(None)"
   ]
  },
  {
   "cell_type": "code",
   "execution_count": 27,
   "metadata": {},
   "outputs": [
    {
     "name": "stdout",
     "output_type": "stream",
     "text": [
      "[[[1, [2, 3]], [4, 5]], [[5, 6, 7], [10, 11, 12]], 12, [13, 14]]\n"
     ]
    },
    {
     "ename": "IndexError",
     "evalue": "list index out of range",
     "output_type": "error",
     "traceback": [
      "\u001b[1;31m---------------------------------------------------------------------------\u001b[0m",
      "\u001b[1;31mIndexError\u001b[0m                                Traceback (most recent call last)",
      "\u001b[1;32m<ipython-input-27-cd48a44eb44d>\u001b[0m in \u001b[0;36m<module>\u001b[1;34m\u001b[0m\n\u001b[0;32m      6\u001b[0m \u001b[0mprint\u001b[0m\u001b[1;33m(\u001b[0m\u001b[0mlst\u001b[0m\u001b[1;33m)\u001b[0m\u001b[1;33m\u001b[0m\u001b[1;33m\u001b[0m\u001b[0m\n\u001b[0;32m      7\u001b[0m \u001b[1;33m\u001b[0m\u001b[0m\n\u001b[1;32m----> 8\u001b[1;33m \u001b[0mprint\u001b[0m\u001b[1;33m(\u001b[0m\u001b[0mlst\u001b[0m\u001b[1;33m[\u001b[0m\u001b[1;36m0\u001b[0m\u001b[1;33m]\u001b[0m\u001b[1;33m[\u001b[0m\u001b[1;36m1\u001b[0m\u001b[1;33m]\u001b[0m\u001b[1;33m[\u001b[0m\u001b[1;36m1\u001b[0m\u001b[1;33m]\u001b[0m \u001b[1;33m+\u001b[0m\u001b[0mlst\u001b[0m\u001b[1;33m[\u001b[0m\u001b[1;36m1\u001b[0m\u001b[1;33m]\u001b[0m\u001b[1;33m[\u001b[0m\u001b[1;36m1\u001b[0m\u001b[1;33m]\u001b[0m\u001b[1;33m[\u001b[0m\u001b[1;36m0\u001b[0m \u001b[1;33m+\u001b[0m\u001b[0mlst\u001b[0m\u001b[1;33m[\u001b[0m\u001b[1;36m2\u001b[0m\u001b[1;33m]\u001b[0m\u001b[1;33m+\u001b[0m\u001b[0mlst\u001b[0m\u001b[1;33m[\u001b[0m\u001b[1;36m3\u001b[0m\u001b[1;33m]\u001b[0m\u001b[1;33m[\u001b[0m\u001b[1;36m1\u001b[0m\u001b[1;33m]\u001b[0m\u001b[1;33m]\u001b[0m\u001b[1;33m)\u001b[0m\u001b[1;33m\u001b[0m\u001b[1;33m\u001b[0m\u001b[0m\n\u001b[0m",
      "\u001b[1;31mIndexError\u001b[0m: list index out of range"
     ]
    }
   ],
   "source": [
    "lst = list()\n",
    "\n",
    "lst.append([[1,[2,3]],[4,5]])\n",
    "lst.append([[5,6,7],[10,11,12]])\n",
    "lst.extend([12,[13,14]])\n",
    "print(lst)\n",
    "\n",
    "print(lst[0][1][1] +lst[1][1][0 +lst[2]+lst[3][1]])\n"
   ]
  },
  {
   "cell_type": "code",
   "execution_count": 35,
   "metadata": {},
   "outputs": [
    {
     "name": "stdout",
     "output_type": "stream",
     "text": [
      "[[[1, 2, 3]], [[1, 2, 3]], [[1, 2, 3]], [[1, 2, 3]]]\n"
     ]
    }
   ],
   "source": [
    "lst = [1,2,3]\n",
    "\n",
    "lst2 = [[i for i in [lst]] for i in range(4)]\n",
    "print(lst2)"
   ]
  },
  {
   "cell_type": "code",
   "execution_count": 36,
   "metadata": {},
   "outputs": [
    {
     "data": {
      "text/plain": [
       "[[1, 2, 3], [1, 2, 3], [1, 2, 3], [1, 2, 3]]"
      ]
     },
     "execution_count": 36,
     "metadata": {},
     "output_type": "execute_result"
    }
   ],
   "source": [
    "a = [[i for i in lst] for i in range(4)]\n",
    "a   "
   ]
  },
  {
   "cell_type": "code",
   "execution_count": 42,
   "metadata": {},
   "outputs": [
    {
     "name": "stdout",
     "output_type": "stream",
     "text": [
      "21.5 ABCDEF\n"
     ]
    }
   ],
   "source": [
    "lst = [1,1.1,\"ABC\",10,'DEF',5,4.4,True,500]\n",
    "\n",
    "val1 = 0\n",
    "val2 = \"\"\n",
    "for i in lst:\n",
    "    if type(i)==int or type(i)==float:\n",
    "        val1 += i\n",
    "    elif type(i)==str:\n",
    "        val2 +=i\n",
    "    else:\n",
    "        break\n",
    "        \n",
    "        \n",
    "        \n",
    "        \n",
    "print(val1,val2)\n",
    "        "
   ]
  },
  {
   "cell_type": "code",
   "execution_count": null,
   "metadata": {},
   "outputs": [],
   "source": [
    "4  --> crct , wrong , skip , quit\n",
    "\n",
    "\n",
    "while True:\n",
    "    \n",
    "    if s == crct :\n",
    "        count +=1\n",
    "    elif s== wrong:\n",
    "        count -= 1\n",
    "    elif s == skip :\n",
    "        continue\n",
    "    elif s == quit:\n",
    "        break"
   ]
  },
  {
   "cell_type": "code",
   "execution_count": 3,
   "metadata": {
    "scrolled": true
   },
   "outputs": [
    {
     "name": "stdout",
     "output_type": "stream",
     "text": [
      "65\n",
      "66\n",
      "67\n",
      "68\n",
      "69\n",
      "70\n",
      "71\n",
      "72\n",
      "73\n",
      "74\n",
      "75\n",
      "76\n",
      "77\n",
      "78\n",
      "79\n",
      "80\n",
      "81\n",
      "82\n",
      "83\n",
      "84\n",
      "85\n",
      "86\n",
      "87\n",
      "88\n",
      "89\n",
      "90\n",
      "91\n",
      "92\n",
      "93\n",
      "94\n",
      "95\n",
      "96\n",
      "97\n",
      "98\n",
      "99\n",
      "100\n",
      "101\n",
      "102\n",
      "103\n",
      "104\n",
      "105\n",
      "106\n",
      "107\n",
      "108\n",
      "109\n",
      "110\n",
      "111\n",
      "112\n",
      "113\n",
      "114\n",
      "115\n",
      "116\n",
      "117\n",
      "118\n",
      "119\n",
      "120\n",
      "121\n"
     ]
    }
   ],
   "source": [
    "#for i in range(71,80):\n",
    "#   print(i)\n",
    "    \n",
    "for i in range(ord(\"A\"),ord(\"z\")):\n",
    "    print(i)"
   ]
  },
  {
   "cell_type": "code",
   "execution_count": 8,
   "metadata": {},
   "outputs": [
    {
     "name": "stdout",
     "output_type": "stream",
     "text": [
      "0\n",
      " \n",
      "1\n",
      " \n",
      "2\n",
      " \n",
      "3\n",
      " \n",
      "4\n",
      " \n",
      "5\n",
      " \n",
      "6\n",
      " \n",
      "7\n",
      " \n",
      "8\n",
      " \n",
      "9\n",
      " \n",
      "10\n",
      " \n"
     ]
    }
   ],
   "source": [
    "for i in range(ord(\"A\"),ord(\"L\")):\n",
    "    n = i%ord(\"A\")\n",
    "    #print(i)\n",
    "    print(n)\n",
    "    print(\" \")"
   ]
  },
  {
   "cell_type": "code",
   "execution_count": 9,
   "metadata": {},
   "outputs": [
    {
     "name": "stdout",
     "output_type": "stream",
     "text": [
      "hello mowa\n",
      "hello mowa\n",
      "hello mowa\n",
      "hello mowa\n"
     ]
    }
   ],
   "source": [
    "string = \"hello world\"\n",
    "\n",
    "while string:\n",
    "    print(\"hello mowa\")\n",
    "    string = string[1::2]"
   ]
  },
  {
   "cell_type": "code",
   "execution_count": 13,
   "metadata": {},
   "outputs": [
    {
     "name": "stdout",
     "output_type": "stream",
     "text": [
      "43\n"
     ]
    }
   ],
   "source": [
    "count  = 0\n",
    "for i in range(5):\n",
    "    while i<3:\n",
    "        if i == 1:\n",
    "            break\n",
    "        count +=10\n",
    "        i=i+1\n",
    "    else:\n",
    "        count +=1\n",
    "        \n",
    "else:\n",
    "    count +=20\n",
    "        \n",
    "print(count)"
   ]
  },
  {
   "cell_type": "code",
   "execution_count": 15,
   "metadata": {},
   "outputs": [
    {
     "name": "stdout",
     "output_type": "stream",
     "text": [
      "AaBbCcDdEeF\n",
      "c \n",
      "AaBbCcDdEe\n",
      "c \n",
      "AaBbCcDdE\n",
      "c \n",
      "AaBbCcDd\n",
      "c \n",
      "AaBbCcD\n",
      "c \n",
      "AaBbCc\n",
      "c \n",
      "AaBbC\n",
      "c \n"
     ]
    }
   ],
   "source": [
    "str1 = \"AaBbCcDdEeFf\"\n",
    "var = 'c'\n",
    "while var in str1:\n",
    "    str1 = str1[:-1]\n",
    "    print(str1)\n",
    "    print(var,end= \"\")\n",
    "    print(\" \")\n"
   ]
  },
  {
   "cell_type": "code",
   "execution_count": null,
   "metadata": {},
   "outputs": [],
   "source": []
  }
 ],
 "metadata": {
  "kernelspec": {
   "display_name": "Python 3",
   "language": "python",
   "name": "python3"
  },
  "language_info": {
   "codemirror_mode": {
    "name": "ipython",
    "version": 3
   },
   "file_extension": ".py",
   "mimetype": "text/x-python",
   "name": "python",
   "nbconvert_exporter": "python",
   "pygments_lexer": "ipython3",
   "version": "3.7.6"
  }
 },
 "nbformat": 4,
 "nbformat_minor": 4
}
