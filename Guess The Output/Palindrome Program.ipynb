{
 "cells": [
  {
   "cell_type": "code",
   "execution_count": 1,
   "metadata": {},
   "outputs": [
    {
     "name": "stdout",
     "output_type": "stream",
     "text": [
      "enter the numbers   to check the number polindrom  or not  = 25252\n",
      "the given number is the polindrom 25252\n"
     ]
    }
   ],
   "source": [
    "n = int(input(\"enter the numbers   to check the number polindrom  or not  = \"))\n",
    "\n",
    "temp = n \n",
    "s = 0\n",
    "while n>0:\n",
    "    r = n%10\n",
    "    s = s*10 + r\n",
    "    n = n //10\n",
    "    \n",
    "if temp == s:\n",
    "    print(\"the given number is the polindrom\",s)"
   ]
  },
  {
   "cell_type": "code",
   "execution_count": 7,
   "metadata": {},
   "outputs": [
    {
     "name": "stdout",
     "output_type": "stream",
     "text": [
      "1\n",
      "1\n",
      "12\n",
      "\n",
      "2\n",
      "12\n",
      "1\n",
      "\n",
      "1\n",
      "121\n",
      "0\n",
      "\n"
     ]
    }
   ],
   "source": [
    "n = 121\n",
    "s = 0\n",
    "\n",
    "while n>0:\n",
    "    r = n%10\n",
    "    print(r)\n",
    "    s = s*10 + r\n",
    "    print(s)\n",
    "    n = n //10\n",
    "    print(n)\n",
    "    \n",
    "    print()\n",
    "    "
   ]
  },
  {
   "cell_type": "code",
   "execution_count": null,
   "metadata": {},
   "outputs": [],
   "source": []
  },
  {
   "cell_type": "code",
   "execution_count": null,
   "metadata": {},
   "outputs": [],
   "source": []
  },
  {
   "cell_type": "markdown",
   "metadata": {},
   "source": [
    "## Reverse The String "
   ]
  },
  {
   "cell_type": "code",
   "execution_count": 14,
   "metadata": {},
   "outputs": [
    {
     "name": "stdout",
     "output_type": "stream",
     "text": [
      "enter the name  : level\n",
      "the given name is reversed and it is a polindrom\n"
     ]
    }
   ],
   "source": [
    "name = input(\"enter the name  : \")\n",
    "\n",
    "rev_name = name[::-1]\n",
    "\n",
    "if name == rev_name:\n",
    "    print(\"the given name is reversed and it is a polindrom\")\n",
    "else:\n",
    "    print(\"it is not a polindrom\")"
   ]
  },
  {
   "cell_type": "code",
   "execution_count": null,
   "metadata": {},
   "outputs": [],
   "source": []
  }
 ],
 "metadata": {
  "kernelspec": {
   "display_name": "Python 3",
   "language": "python",
   "name": "python3"
  },
  "language_info": {
   "codemirror_mode": {
    "name": "ipython",
    "version": 3
   },
   "file_extension": ".py",
   "mimetype": "text/x-python",
   "name": "python",
   "nbconvert_exporter": "python",
   "pygments_lexer": "ipython3",
   "version": "3.7.6"
  }
 },
 "nbformat": 4,
 "nbformat_minor": 4
}
