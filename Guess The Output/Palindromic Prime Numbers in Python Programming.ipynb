{
 "cells": [
  {
   "cell_type": "markdown",
   "metadata": {},
   "source": [
    "## prime palindrom number"
   ]
  },
  {
   "cell_type": "code",
   "execution_count": 3,
   "metadata": {},
   "outputs": [
    {
     "name": "stdout",
     "output_type": "stream",
     "text": [
      "enter the numbers   to check the number polindrom  or not  = 151\n",
      "the given number is a prime palindrom number 151\n"
     ]
    }
   ],
   "source": [
    "n = int(input(\"enter the numbers   to check the number polindrom  or not  = \"))\n",
    "\n",
    "temp = n \n",
    "s = 0\n",
    "while n>0:\n",
    "    r = n%10\n",
    "    s = s*10 + r\n",
    "    n = n //10\n",
    "    \n",
    "    if temp == s:\n",
    "    \n",
    "        if s>1 :\n",
    "            for j in range(2,s):\n",
    "                if s%j == 0:\n",
    "                    #print(\"the given number is not a prime number\")\n",
    "                    break\n",
    "            else:\n",
    "                print(\"the given number is a prime palindrom number\",s)\n",
    "\n",
    "    \n"
   ]
  },
  {
   "cell_type": "markdown",
   "metadata": {},
   "source": [
    "## prime palindrom number in a given range"
   ]
  },
  {
   "cell_type": "code",
   "execution_count": 13,
   "metadata": {},
   "outputs": [
    {
     "name": "stdout",
     "output_type": "stream",
     "text": [
      "enter the numbers   to check the number of prime polindroms in a given range 1000\n",
      "the prime numbers [2, 3, 5, 7, 11, 13, 17, 19, 23, 29, 31, 37, 41, 43, 47, 53, 59, 61, 67, 71, 73, 79, 83, 89, 97, 101, 103, 107, 109, 113, 127, 131, 137, 139, 149, 151, 157, 163, 167, 173, 179, 181, 191, 193, 197, 199, 211, 223, 227, 229, 233, 239, 241, 251, 257, 263, 269, 271, 277, 281, 283, 293, 307, 311, 313, 317, 331, 337, 347, 349, 353, 359, 367, 373, 379, 383, 389, 397, 401, 409, 419, 421, 431, 433, 439, 443, 449, 457, 461, 463, 467, 479, 487, 491, 499, 503, 509, 521, 523, 541, 547, 557, 563, 569, 571, 577, 587, 593, 599, 601, 607, 613, 617, 619, 631, 641, 643, 647, 653, 659, 661, 673, 677, 683, 691, 701, 709, 719, 727, 733, 739, 743, 751, 757, 761, 769, 773, 787, 797, 809, 811, 821, 823, 827, 829, 839, 853, 857, 859, 863, 877, 881, 883, 887, 907, 911, 919, 929, 937, 941, 947, 953, 967, 971, 977, 983, 991, 997]\n",
      "\n",
      "\n",
      "the prime polindrom numbers [2, 3, 5, 7, 11, 101, 131, 151, 181, 191, 313, 353, 373, 383, 727, 757, 787, 797, 919, 929]\n"
     ]
    }
   ],
   "source": [
    "n = int(input(\"enter the numbers   to check the number of prime polindroms in a given range \"))\n",
    "\n",
    "b = []\n",
    "for i in range(1,n):\n",
    "    if i > 1:\n",
    "        for j in range(2,i):\n",
    "            if i%j == 0:\n",
    "                    #print(\"the given number is not a prime number\")\n",
    "                    break\n",
    "        else:\n",
    "            b.append(i)\n",
    "            #print(\"the given number is a prime palindrom number\",s)\n",
    "            \n",
    "prime_polindrom = []            \n",
    "for i in b:\n",
    "    temp = i \n",
    "    s = 0 \n",
    "    \n",
    "    n = i\n",
    "    while n>0:\n",
    "        r = n%10\n",
    "        s = s*10 + r\n",
    "        n =n//10\n",
    "        \n",
    "    if temp == s :\n",
    "        prime_polindrom.append(s)\n",
    "        \n",
    "    else:\n",
    "        pass\n",
    "        \n",
    "print(\"the prime numbers\",b) \n",
    "print()\n",
    "print()\n",
    "print(\"the prime polindrom numbers\",prime_polindrom)    "
   ]
  },
  {
   "cell_type": "code",
   "execution_count": null,
   "metadata": {},
   "outputs": [],
   "source": []
  },
  {
   "cell_type": "code",
   "execution_count": null,
   "metadata": {},
   "outputs": [],
   "source": []
  },
  {
   "cell_type": "code",
   "execution_count": null,
   "metadata": {},
   "outputs": [],
   "source": []
  },
  {
   "cell_type": "code",
   "execution_count": null,
   "metadata": {},
   "outputs": [],
   "source": []
  },
  {
   "cell_type": "code",
   "execution_count": null,
   "metadata": {},
   "outputs": [],
   "source": []
  },
  {
   "cell_type": "code",
   "execution_count": null,
   "metadata": {},
   "outputs": [],
   "source": []
  },
  {
   "cell_type": "code",
   "execution_count": null,
   "metadata": {},
   "outputs": [],
   "source": []
  },
  {
   "cell_type": "code",
   "execution_count": 8,
   "metadata": {},
   "outputs": [
    {
     "name": "stdout",
     "output_type": "stream",
     "text": [
      "enter the numbers   to check the number of prime polindroms in a given range 1000\n",
      "[2, 3, 5, 7, 11, 13, 17, 19, 23, 29, 31, 37, 41, 43, 47, 53, 59, 61, 67, 71, 73, 79, 83, 89, 97, 101, 103, 107, 109, 113, 127, 131, 137, 139, 149, 151, 157, 163, 167, 173, 179, 181, 191, 193, 197, 199, 211, 223, 227, 229, 233, 239, 241, 251, 257, 263, 269, 271, 277, 281, 283, 293, 307, 311, 313, 317, 331, 337, 347, 349, 353, 359, 367, 373, 379, 383, 389, 397, 401, 409, 419, 421, 431, 433, 439, 443, 449, 457, 461, 463, 467, 479, 487, 491, 499, 503, 509, 521, 523, 541, 547, 557, 563, 569, 571, 577, 587, 593, 599, 601, 607, 613, 617, 619, 631, 641, 643, 647, 653, 659, 661, 673, 677, 683, 691, 701, 709, 719, 727, 733, 739, 743, 751, 757, 761, 769, 773, 787, 797, 809, 811, 821, 823, 827, 829, 839, 853, 857, 859, 863, 877, 881, 883, 887, 907, 911, 919, 929, 937, 941, 947, 953, 967, 971, 977, 983, 991, 997]\n"
     ]
    }
   ],
   "source": [
    "n = int(input(\"enter the numbers   to check the number of prime polindroms in a given range \"))\n",
    "\n",
    "b = []\n",
    "for i in range(1,n):\n",
    "    if i > 1:\n",
    "        for j in range(2,i):\n",
    "            if i%j == 0:\n",
    "                    #print(\"the given number is not a prime number\")\n",
    "                    break\n",
    "        else:\n",
    "            b.append(i)\n",
    "            #print(\"the given number is a prime palindrom number\",s)\n",
    "print(b)"
   ]
  },
  {
   "cell_type": "code",
   "execution_count": 10,
   "metadata": {},
   "outputs": [],
   "source": [
    "prime_polindrom = []  \n",
    "\n",
    "for i in b:\n",
    "    temp = i \n",
    "    s = 0 \n",
    "    \n",
    "    n = i \n",
    "    while n>0:\n",
    "        r = n%10\n",
    "        s = s*10 + r\n",
    "        n =n//10\n",
    "        \n",
    "    if temp == s :\n",
    "        prime_polindrom.append(s)\n",
    "        "
   ]
  },
  {
   "cell_type": "code",
   "execution_count": 11,
   "metadata": {},
   "outputs": [
    {
     "name": "stdout",
     "output_type": "stream",
     "text": [
      "[2, 3, 5, 7, 11, 101, 131, 151, 181, 191, 313, 353, 373, 383, 727, 757, 787, 797, 919, 929]\n"
     ]
    }
   ],
   "source": [
    "print(prime_polindrom)"
   ]
  },
  {
   "cell_type": "code",
   "execution_count": null,
   "metadata": {},
   "outputs": [],
   "source": []
  }
 ],
 "metadata": {
  "kernelspec": {
   "display_name": "Python 3",
   "language": "python",
   "name": "python3"
  },
  "language_info": {
   "codemirror_mode": {
    "name": "ipython",
    "version": 3
   },
   "file_extension": ".py",
   "mimetype": "text/x-python",
   "name": "python",
   "nbconvert_exporter": "python",
   "pygments_lexer": "ipython3",
   "version": "3.7.6"
  }
 },
 "nbformat": 4,
 "nbformat_minor": 4
}
