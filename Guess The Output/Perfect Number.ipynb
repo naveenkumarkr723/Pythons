{
 "cells": [
  {
   "cell_type": "markdown",
   "metadata": {},
   "source": [
    "## Program to check the  Perfect Numbers"
   ]
  },
  {
   "cell_type": "code",
   "execution_count": 16,
   "metadata": {},
   "outputs": [
    {
     "name": "stdout",
     "output_type": "stream",
     "text": [
      "enter the number to check the number perfect or nor  = 6\n"
     ]
    },
    {
     "data": {
      "text/plain": [
       "6"
      ]
     },
     "execution_count": 16,
     "metadata": {},
     "output_type": "execute_result"
    }
   ],
   "source": [
    "n = int(input(\"enter the number to check the number perfect or nor  = \"))\n",
    "\n",
    "s = 0 \n",
    "for i in range(1,n):\n",
    "    if n%i == 0:\n",
    "        s += i\n",
    "    else:\n",
    "        pass\n",
    "    \n",
    "if s == n:\n",
    "    print(\"the given number is the perfect number\",s)\n",
    "    \n",
    "else:\n",
    "    print(\"the given number is the perfect number\",s)\n",
    "\n",
    "        \n"
   ]
  },
  {
   "cell_type": "markdown",
   "metadata": {},
   "source": [
    "## Program to Print Perfect Numbers in Given Interval"
   ]
  },
  {
   "cell_type": "code",
   "execution_count": 26,
   "metadata": {},
   "outputs": [
    {
     "name": "stdout",
     "output_type": "stream",
     "text": [
      "enter the numbers range  to check the number perfect or not  = 8200\n"
     ]
    }
   ],
   "source": [
    "n = int(input(\"enter the numbers range  to check the number perfect or not  = \"))\n",
    "\n",
    "l = []\n",
    "for j in range(1,n):\n",
    "    n = j\n",
    "    s = 0 \n",
    "    for i in range(1,j):\n",
    "        if n%i == 0:\n",
    "            s += i\n",
    "        else:\n",
    "            pass\n",
    "\n",
    "    if s == n:\n",
    "        l.append(j)\n",
    "        "
   ]
  },
  {
   "cell_type": "code",
   "execution_count": 27,
   "metadata": {},
   "outputs": [
    {
     "data": {
      "text/plain": [
       "[6, 28, 496, 8128]"
      ]
     },
     "execution_count": 27,
     "metadata": {},
     "output_type": "execute_result"
    }
   ],
   "source": [
    "l"
   ]
  },
  {
   "cell_type": "code",
   "execution_count": null,
   "metadata": {},
   "outputs": [],
   "source": []
  },
  {
   "cell_type": "code",
   "execution_count": null,
   "metadata": {},
   "outputs": [],
   "source": []
  }
 ],
 "metadata": {
  "kernelspec": {
   "display_name": "Python 3",
   "language": "python",
   "name": "python3"
  },
  "language_info": {
   "codemirror_mode": {
    "name": "ipython",
    "version": 3
   },
   "file_extension": ".py",
   "mimetype": "text/x-python",
   "name": "python",
   "nbconvert_exporter": "python",
   "pygments_lexer": "ipython3",
   "version": "3.7.6"
  }
 },
 "nbformat": 4,
 "nbformat_minor": 4
}
