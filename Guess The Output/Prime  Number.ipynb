{
 "cells": [
  {
   "cell_type": "markdown",
   "metadata": {},
   "source": [
    "## Printing Prime Numbers in Given Interval"
   ]
  },
  {
   "cell_type": "code",
   "execution_count": 15,
   "metadata": {},
   "outputs": [
    {
     "name": "stdout",
     "output_type": "stream",
     "text": [
      "enter the range to find the prime numbers = 100\n",
      "[2, 3, 5, 7, 11, 13, 17, 19, 23, 29, 31, 37, 41, 43, 47, 53, 59, 61, 67, 71, 73, 79, 83, 89, 97]\n"
     ]
    }
   ],
   "source": [
    "#n = int(input(\"enter the to find the given number is prime or not  = \"))\n",
    "n = int(input(\"enter the range to find the prime numbers = \"))\n",
    "\n",
    "prime_numbers = []\n",
    "for i in range(1,n):\n",
    "    \n",
    "    if i>1 :\n",
    "        for j in range(2,i):\n",
    "            if i%j == 0:\n",
    "                #print(\"the given number is not a prime number\")\n",
    "                break\n",
    "        else:\n",
    "            prime_numbers.append(i)\n",
    "            #print(\"the given number is  a prime number\",i)\n",
    "\n",
    "print(prime_numbers)"
   ]
  },
  {
   "cell_type": "code",
   "execution_count": null,
   "metadata": {},
   "outputs": [],
   "source": []
  },
  {
   "cell_type": "code",
   "execution_count": null,
   "metadata": {},
   "outputs": [],
   "source": []
  }
 ],
 "metadata": {
  "kernelspec": {
   "display_name": "Python 3",
   "language": "python",
   "name": "python3"
  },
  "language_info": {
   "codemirror_mode": {
    "name": "ipython",
    "version": 3
   },
   "file_extension": ".py",
   "mimetype": "text/x-python",
   "name": "python",
   "nbconvert_exporter": "python",
   "pygments_lexer": "ipython3",
   "version": "3.7.6"
  }
 },
 "nbformat": 4,
 "nbformat_minor": 4
}
