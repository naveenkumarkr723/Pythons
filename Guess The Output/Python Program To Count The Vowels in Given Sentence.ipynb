{
 "cells": [
  {
   "cell_type": "code",
   "execution_count": 2,
   "metadata": {},
   "outputs": [
    {
     "name": "stdout",
     "output_type": "stream",
     "text": [
      "enter the string : My mom taught me to finish everything on my plate at dinner. The only problem with a pencil, is that they do not stay sharp long enough. Our school building is made of bricks. Every night I get woken up by the sound of a barking dog across the street. Salad is for rabbits.\n",
      "74\n"
     ]
    }
   ],
   "source": [
    "a = ['a','e','i','o','u']\n",
    "\n",
    "n = input(\"enter the string : \")\n",
    "n = n.lower()\n",
    "count = 0\n",
    "\n",
    "for i in n:\n",
    "    if i in a :\n",
    "        count +=1\n",
    "        \n",
    "print(count)\n",
    "        "
   ]
  },
  {
   "cell_type": "markdown",
   "metadata": {},
   "source": [
    "## Python Program To Print Every Index of Duplicate Elements in List\n"
   ]
  },
  {
   "cell_type": "code",
   "execution_count": 19,
   "metadata": {},
   "outputs": [
    {
     "name": "stdout",
     "output_type": "stream",
     "text": [
      "[4, 11]\n"
     ]
    }
   ],
   "source": [
    "lis = [1,2,3,4,5,66,7,45,7,7,4,5]\n",
    "\n",
    "lis2 = [i for i in range(len(lis)) if lis[i]== 5]\n",
    "print(lis2)"
   ]
  },
  {
   "cell_type": "code",
   "execution_count": 18,
   "metadata": {},
   "outputs": [
    {
     "name": "stdout",
     "output_type": "stream",
     "text": [
      "Frequency of apple is : 3\n",
      "Frequency of mango is : 3\n",
      "Frequency of orange is : 2\n",
      "Frequency of guava is : 1\n"
     ]
    }
   ],
   "source": [
    "# Python code to find frequency of each word\n",
    "def freq(str):\n",
    "\n",
    "\t# break the string into list of words\n",
    "\tstr = str.split()\t\t\n",
    "\tstr2 = []\n",
    "\n",
    "\t# loop till string values present in list str\n",
    "\tfor i in str:\t\t\t\n",
    "\n",
    "\t\t# checking for the duplicacy\n",
    "\t\tif i not in str2:\n",
    "\n",
    "\t\t\t# insert value in str2\n",
    "\t\t\tstr2.append(i)\n",
    "\t\t\t\n",
    "\tfor i in range(0, len(str2)):\n",
    "\n",
    "\t\t# count the frequency of each word(present\n",
    "\t\t# in str2) in str and print\n",
    "\t\tprint('Frequency of', str2[i], 'is :', str.count(str2[i]))\t\n",
    "\n",
    "def main():\n",
    "\tstr ='apple mango apple orange orange apple guava mango mango'\n",
    "\tfreq(str)\t\t\t\t\t\n",
    "\n",
    "if __name__==\"__main__\":\n",
    "\tmain()\t\t\t # call main function\n"
   ]
  },
  {
   "cell_type": "code",
   "execution_count": null,
   "metadata": {},
   "outputs": [],
   "source": []
  }
 ],
 "metadata": {
  "kernelspec": {
   "display_name": "Python 3",
   "language": "python",
   "name": "python3"
  },
  "language_info": {
   "codemirror_mode": {
    "name": "ipython",
    "version": 3
   },
   "file_extension": ".py",
   "mimetype": "text/x-python",
   "name": "python",
   "nbconvert_exporter": "python",
   "pygments_lexer": "ipython3",
   "version": "3.7.6"
  }
 },
 "nbformat": 4,
 "nbformat_minor": 4
}
