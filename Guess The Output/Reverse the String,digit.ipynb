{
 "cells": [
  {
   "cell_type": "markdown",
   "metadata": {},
   "source": [
    "## Reverse a String Using list "
   ]
  },
  {
   "cell_type": "code",
   "execution_count": 1,
   "metadata": {},
   "outputs": [
    {
     "name": "stdout",
     "output_type": "stream",
     "text": [
      "enter the string : naveen\n",
      "the reversed string is : neevan\n"
     ]
    }
   ],
   "source": [
    "a = input(\"enter the string : \")\n",
    "\n",
    "s = a[::-1]\n",
    "\n",
    "print(\"the reversed string is :\",s)"
   ]
  },
  {
   "cell_type": "markdown",
   "metadata": {},
   "source": [
    "## Reverse a String Using for loop"
   ]
  },
  {
   "cell_type": "code",
   "execution_count": 9,
   "metadata": {},
   "outputs": [
    {
     "name": "stdout",
     "output_type": "stream",
     "text": [
      "enter the string : naveen kumar jadi\n",
      "idaj ramuk neevan \n"
     ]
    }
   ],
   "source": [
    "a = input(\"enter the string : \")\n",
    "\n",
    "b = ' '\n",
    "\n",
    "for i in a:\n",
    "    b = i+b\n",
    "    \n",
    "\n",
    "print(b)   "
   ]
  },
  {
   "cell_type": "markdown",
   "metadata": {},
   "source": [
    "## Reverse a Digit Using while loop"
   ]
  },
  {
   "cell_type": "code",
   "execution_count": 5,
   "metadata": {},
   "outputs": [
    {
     "name": "stdout",
     "output_type": "stream",
     "text": [
      "enter the numbers   to check the number polindrom  or not  = 54512\n",
      "21545\n"
     ]
    }
   ],
   "source": [
    "n = int(input(\"enter the numbers   to check the number polindrom  or not  = \"))\n",
    "\n",
    "temp = n \n",
    "s = 0\n",
    "while n>0:\n",
    "    r = n%10\n",
    "    s = s*10 + r\n",
    "    n = n //10\n",
    "    \n",
    "print(s)"
   ]
  },
  {
   "cell_type": "code",
   "execution_count": null,
   "metadata": {},
   "outputs": [],
   "source": []
  },
  {
   "cell_type": "code",
   "execution_count": null,
   "metadata": {},
   "outputs": [],
   "source": []
  }
 ],
 "metadata": {
  "kernelspec": {
   "display_name": "Python 3",
   "language": "python",
   "name": "python3"
  },
  "language_info": {
   "codemirror_mode": {
    "name": "ipython",
    "version": 3
   },
   "file_extension": ".py",
   "mimetype": "text/x-python",
   "name": "python",
   "nbconvert_exporter": "python",
   "pygments_lexer": "ipython3",
   "version": "3.7.6"
  }
 },
 "nbformat": 4,
 "nbformat_minor": 4
}
