{
 "cells": [
  {
   "cell_type": "code",
   "execution_count": 4,
   "metadata": {},
   "outputs": [
    {
     "name": "stdout",
     "output_type": "stream",
     "text": [
      "enter the first value  a : 56\n",
      "enter the second value  b : 12\n",
      "the output of a value is :  12\n",
      "the output of b value is :  56\n"
     ]
    }
   ],
   "source": [
    "a = int(input(\"enter the first value  a : \"))\n",
    "b = int(input(\"enter the second value  b : \"))\n",
    "\n",
    "temp = a \n",
    "a = b\n",
    "b = temp \n",
    "\n",
    "\n",
    "print(\"the output of a value is : \",a)\n",
    "print(\"the output of b value is : \",b)"
   ]
  },
  {
   "cell_type": "code",
   "execution_count": 5,
   "metadata": {},
   "outputs": [
    {
     "name": "stdout",
     "output_type": "stream",
     "text": [
      "enter the first value  a : 26\n",
      "enter the second value  b : 45\n",
      "the output of a value is :  45\n",
      "the output of b value is :  26\n"
     ]
    }
   ],
   "source": [
    "### wothout using the third variable\n",
    "\n",
    "a = int(input(\"enter the first value  a : \"))\n",
    "b = int(input(\"enter the second value  b : \"))\n",
    "\n",
    "\n",
    "a = b+a\n",
    "b = a-b\n",
    "a = a-b\n",
    "\n",
    "\n",
    "print(\"the output of a value is : \",a)\n",
    "print(\"the output of b value is : \",b)"
   ]
  },
  {
   "cell_type": "code",
   "execution_count": 6,
   "metadata": {},
   "outputs": [
    {
     "name": "stdout",
     "output_type": "stream",
     "text": [
      "enter the first value  a : 56\n",
      "enter the second value  b : 21\n",
      "the output of a value is :  21\n",
      "the output of b value is :  56\n"
     ]
    }
   ],
   "source": [
    "### wothout using the third variable\n",
    "\n",
    "a = int(input(\"enter the first value  a : \"))\n",
    "b = int(input(\"enter the second value  b : \"))\n",
    "\n",
    "\n",
    "a , b = b , a\n",
    "\n",
    "print(\"the output of a value is : \",a)\n",
    "print(\"the output of b value is : \",b)"
   ]
  },
  {
   "cell_type": "code",
   "execution_count": null,
   "metadata": {},
   "outputs": [],
   "source": []
  }
 ],
 "metadata": {
  "kernelspec": {
   "display_name": "Python 3",
   "language": "python",
   "name": "python3"
  },
  "language_info": {
   "codemirror_mode": {
    "name": "ipython",
    "version": 3
   },
   "file_extension": ".py",
   "mimetype": "text/x-python",
   "name": "python",
   "nbconvert_exporter": "python",
   "pygments_lexer": "ipython3",
   "version": "3.7.6"
  }
 },
 "nbformat": 4,
 "nbformat_minor": 4
}
