{
 "cells": [
  {
   "cell_type": "code",
   "execution_count": 1,
   "metadata": {},
   "outputs": [
    {
     "name": "stdout",
     "output_type": "stream",
     "text": [
      "enter the factorial number5\n"
     ]
    },
    {
     "data": {
      "text/plain": [
       "120"
      ]
     },
     "execution_count": 1,
     "metadata": {},
     "output_type": "execute_result"
    }
   ],
   "source": [
    "# factorial of a number\n",
    "\n",
    "def facto(n):\n",
    "    if n==1 or n==0:\n",
    "        return 1\n",
    "    else :\n",
    "        return n*facto(n-1)\n",
    "    \n",
    "    \n",
    "a = int(input(\"enter the factorial number\"))   \n",
    "facto(a)\n"
   ]
  },
  {
   "cell_type": "code",
   "execution_count": 2,
   "metadata": {},
   "outputs": [
    {
     "name": "stdout",
     "output_type": "stream",
     "text": [
      "enter the prime  number  2\n",
      "the given number is prime\n"
     ]
    }
   ],
   "source": [
    "#Prime Number\n",
    "\n",
    "def prime(n,i):\n",
    "    if i == 1 :\n",
    "        return 1 \n",
    "    if n%i==0:\n",
    "        return 0 \n",
    "    return prime(n,i-1)\n",
    "    \n",
    "n = int(input(\"enter the prime  number  \"))\n",
    "s=prime(n,int(n/2))\n",
    "\n",
    "if s==1:\n",
    "    print(\"the given number is prime\")\n",
    "else:\n",
    "    print(\"the given number is not a prime\")"
   ]
  },
  {
   "cell_type": "code",
   "execution_count": 3,
   "metadata": {},
   "outputs": [
    {
     "name": "stdout",
     "output_type": "stream",
     "text": [
      "enter the number1254\n"
     ]
    },
    {
     "data": {
      "text/plain": [
       "12"
      ]
     },
     "execution_count": 3,
     "metadata": {},
     "output_type": "execute_result"
    }
   ],
   "source": [
    "# sum of a digits\n",
    "\n",
    "def sod(n):\n",
    "    if n <10:\n",
    "        return n\n",
    "    \n",
    "    return (n%10)+sod(int(n/10))\n",
    "\n",
    "    \n",
    "a = int(input(\"enter the number\"))  \n",
    "\n",
    "sod(a)"
   ]
  },
  {
   "cell_type": "code",
   "execution_count": 4,
   "metadata": {},
   "outputs": [
    {
     "name": "stdout",
     "output_type": "stream",
     "text": [
      "enter the number for which power will applied4\n",
      "enter the power of number 3\n"
     ]
    },
    {
     "data": {
      "text/plain": [
       "64"
      ]
     },
     "execution_count": 4,
     "metadata": {},
     "output_type": "execute_result"
    }
   ],
   "source": [
    "# Find the Power of a Number\n",
    "\n",
    "def power(n,b):\n",
    "    if b==1:\n",
    "        return n \n",
    "    \n",
    "    return n*power(n,b-1)\n",
    "\n",
    "n = int(input(\"enter the number for which power will applied\"))\n",
    "b = int(input(\"enter the power of number \"))\n",
    "power(n,b)"
   ]
  },
  {
   "cell_type": "code",
   "execution_count": 5,
   "metadata": {},
   "outputs": [
    {
     "data": {
      "text/plain": [
       "7"
      ]
     },
     "execution_count": 5,
     "metadata": {},
     "output_type": "execute_result"
    }
   ],
   "source": [
    "# for count the number of digits in a number\n",
    "\n",
    "def count_num(n):\n",
    "    if n<10:\n",
    "        return 1\n",
    "\n",
    "    return  1+(count_num(int(n/10)))\n",
    "        \n",
    "n= 1654561  \n",
    "count_num(n)"
   ]
  },
  {
   "cell_type": "code",
   "execution_count": 6,
   "metadata": {},
   "outputs": [
    {
     "name": "stdout",
     "output_type": "stream",
     "text": [
      "enter the first natural number15\n",
      "enter the last natural number25\n",
      "15 16 17 18 19 20 21 22 23 24 25 "
     ]
    }
   ],
   "source": [
    "#printing the natural numbers \n",
    "\n",
    "def natural(a,b):\n",
    "    if a>b:\n",
    "        return\n",
    "    print(a,end=\" \")\n",
    "    return natural(a+1,b)\n",
    "\n",
    "\n",
    "a = int(input(\"enter the first natural number\"))\n",
    "b = int(input(\"enter the last natural number\"))\n",
    "natural(a,b)"
   ]
  },
  {
   "cell_type": "code",
   "execution_count": 7,
   "metadata": {},
   "outputs": [
    {
     "name": "stdout",
     "output_type": "stream",
     "text": [
      "enter the first natural number10\n",
      "enter the last natural number36\n",
      "36 35 34 33 32 31 30 29 28 27 26 25 24 23 22 21 20 19 18 17 16 15 14 13 12 11 10 "
     ]
    }
   ],
   "source": [
    "#Print Natural Numbers in Reverse Order\n",
    "\n",
    "def natural(a,b):\n",
    "    if b<a:\n",
    "        return\n",
    "    print(b,end=\" \")\n",
    "    return natural(a,b-1)\n",
    "\n",
    "\n",
    "a = int(input(\"enter the first natural number\"))\n",
    "b = int(input(\"enter the last natural number\"))\n",
    "natural(a,b)"
   ]
  },
  {
   "cell_type": "code",
   "execution_count": 9,
   "metadata": {},
   "outputs": [
    {
     "name": "stdout",
     "output_type": "stream",
     "text": [
      "enter the number213\n",
      "36 entered number is not a armstrong , it is just a cube of digits\n"
     ]
    }
   ],
   "source": [
    "def armstrong(n):\n",
    "    if n <10:\n",
    "        return n**3\n",
    "    \n",
    "    return (n%10)**3 + armstrong(int(n/10))\n",
    "\n",
    "    \n",
    "a = int(input(\"enter the number\"))  \n",
    "\n",
    "\n",
    "result = armstrong(a)\n",
    "\n",
    "if result ==a:\n",
    "    print(\"entered number is armstrong\")\n",
    "else:\n",
    "    print(result,\"entered number is not a armstrong , it is just a cube of digits\")\n",
    "    "
   ]
  },
  {
   "cell_type": "code",
   "execution_count": 16,
   "metadata": {},
   "outputs": [
    {
     "data": {
      "text/plain": [
       "321"
      ]
     },
     "execution_count": 16,
     "metadata": {},
     "output_type": "execute_result"
    }
   ],
   "source": [
    "## to check Palindrome Number \n",
    "\n",
    "def polindrome(n,t):\n",
    "    if n==0:\n",
    "        return t \n",
    "    t = (t*10)+(n%10)\n",
    "    return polindrome(n//10,t)\n",
    "\n",
    "\n",
    "n=123\n",
    "t=0\n",
    "polindrome(n,t)\n",
    "\n"
   ]
  },
  {
   "cell_type": "code",
   "execution_count": 23,
   "metadata": {},
   "outputs": [
    {
     "name": "stdout",
     "output_type": "stream",
     "text": [
      "10 12 14 16 18 20 22 24 26 28 30 32 34 36 38 40 42 44 46 48 50 52 54 56 58 60 62 64 66 68 70 72 74 76 78 80 82 84 86 88 90 92 94 96 98 "
     ]
    }
   ],
   "source": [
    "#Print Even Numbers in Given Range \n",
    "\n",
    "def even(n,p):\n",
    "    if n==0:\n",
    "        return 0\n",
    "    if n<p:\n",
    "        if n%2==0:\n",
    "            print(n,end=\" \")\n",
    "    \n",
    "        return even(n+1,p)\n",
    "        \n",
    "n=10\n",
    "p=100\n",
    "even(n,p)   "
   ]
  },
  {
   "cell_type": "code",
   "execution_count": 24,
   "metadata": {
    "scrolled": true
   },
   "outputs": [
    {
     "name": "stdout",
     "output_type": "stream",
     "text": [
      "10\n",
      "12\n",
      "14\n",
      "16\n",
      "18\n",
      "20\n",
      "22\n",
      "24\n",
      "26\n",
      "28\n",
      "30\n",
      "32\n",
      "34\n",
      "36\n",
      "38\n",
      "40\n",
      "42\n",
      "44\n",
      "46\n",
      "48\n",
      "50\n",
      "52\n",
      "54\n",
      "56\n",
      "58\n",
      "60\n",
      "62\n",
      "64\n",
      "66\n",
      "68\n",
      "70\n",
      "72\n",
      "74\n",
      "76\n",
      "78\n",
      "80\n",
      "82\n",
      "84\n",
      "86\n",
      "88\n",
      "90\n",
      "92\n",
      "94\n",
      "96\n",
      "98\n",
      "100\n"
     ]
    }
   ],
   "source": [
    "#Print Even Numbers in Given Range \n",
    "\n",
    "def even(n,p):\n",
    "    \n",
    "    if n>p:\n",
    "        return \n",
    "    print(n)\n",
    "    return even(n+2,p)\n",
    "        \n",
    "n=10\n",
    "p=100\n",
    "\n",
    "if n%2==0:\n",
    "    n=n\n",
    "else:\n",
    "    n=n+1\n",
    "even(n,p)   "
   ]
  },
  {
   "cell_type": "code",
   "execution_count": 13,
   "metadata": {},
   "outputs": [
    {
     "name": "stdout",
     "output_type": "stream",
     "text": [
      "2\n",
      "6\n",
      "12\n",
      "20\n",
      "30\n",
      "42\n",
      "56\n",
      "72\n",
      "90\n",
      "110\n",
      "132\n",
      "156\n",
      "182\n",
      "210\n",
      "240\n",
      "272\n",
      "306\n",
      "342\n",
      "380\n",
      "420\n",
      "462\n",
      "506\n",
      "552\n",
      "600\n",
      "650\n",
      "702\n",
      "756\n",
      "812\n",
      "870\n",
      "930\n",
      "992\n",
      "1056\n",
      "1122\n",
      "1190\n",
      "1260\n",
      "1332\n",
      "1406\n",
      "1482\n",
      "1560\n",
      "1640\n",
      "1722\n",
      "1806\n",
      "1892\n",
      "1980\n",
      "2070\n",
      "2162\n",
      "2256\n",
      "2352\n",
      "2450\n"
     ]
    }
   ],
   "source": [
    "## To Sum of Even Number between 1 to nth \n",
    "\n",
    "def sum_even(n,m,s):\n",
    "    if n<m:\n",
    "        if n%2==0:\n",
    "            s = s+n\n",
    "            #print(n)\n",
    "            print(s)\n",
    "        return sum_even(n+1,m,s)\n",
    "        \n",
    "n=1\n",
    "m= 100\n",
    "s=0\n",
    "\n",
    "sum_even(n,m,s)  \n"
   ]
  },
  {
   "cell_type": "code",
   "execution_count": 38,
   "metadata": {},
   "outputs": [
    {
     "name": "stdout",
     "output_type": "stream",
     "text": [
      "2\n",
      "4\n",
      "6\n",
      "8\n",
      "10\n",
      "12\n",
      "14\n",
      "16\n",
      "18\n",
      "20\n",
      "22\n",
      "24\n",
      "26\n",
      "28\n"
     ]
    },
    {
     "data": {
      "text/plain": [
       "210"
      ]
     },
     "execution_count": 38,
     "metadata": {},
     "output_type": "execute_result"
    }
   ],
   "source": [
    "def even_sum(a,b,s):\n",
    "    if a>b:\n",
    "        return s\n",
    "    s = s+a\n",
    "    print(a)\n",
    "    return even_sum(a+2,b,s)\n",
    "\n",
    "x=2\n",
    "y=28\n",
    "s=0\n",
    "even_sum(x,y,s)"
   ]
  },
  {
   "cell_type": "code",
   "execution_count": 5,
   "metadata": {},
   "outputs": [
    {
     "name": "stdout",
     "output_type": "stream",
     "text": [
      "11\n",
      "13\n",
      "15\n",
      "17\n",
      "19\n",
      "21\n",
      "23\n",
      "25\n",
      "27\n",
      "29\n",
      "31\n",
      "33\n",
      "35\n",
      "37\n",
      "39\n",
      "41\n",
      "43\n",
      "45\n",
      "47\n",
      "49\n",
      "51\n",
      "53\n",
      "55\n",
      "57\n",
      "59\n",
      "61\n",
      "63\n",
      "65\n",
      "67\n",
      "69\n",
      "71\n",
      "73\n",
      "75\n",
      "77\n",
      "79\n",
      "81\n",
      "83\n",
      "85\n",
      "87\n",
      "89\n",
      "91\n",
      "93\n",
      "95\n",
      "97\n",
      "99\n"
     ]
    }
   ],
   "source": [
    "# Odd Numbers In Given Range\n",
    "\n",
    "def odd(n,p):\n",
    "    \n",
    "    if n>p:\n",
    "        return \n",
    "    print(n)\n",
    "    return odd(n+2,p)\n",
    "        \n",
    "n=10\n",
    "p=100\n",
    "\n",
    "if n%2!=0:\n",
    "    n=n\n",
    "else:\n",
    "    n=n+1\n",
    "odd(n,p)   "
   ]
  },
  {
   "cell_type": "code",
   "execution_count": 4,
   "metadata": {},
   "outputs": [
    {
     "name": "stdout",
     "output_type": "stream",
     "text": [
      "1\n",
      "3\n",
      "5\n",
      "7\n",
      "9\n",
      "11\n",
      "13\n",
      "15\n",
      "17\n",
      "19\n",
      "21\n",
      "23\n",
      "25\n",
      "27\n"
     ]
    },
    {
     "data": {
      "text/plain": [
       "196"
      ]
     },
     "execution_count": 4,
     "metadata": {},
     "output_type": "execute_result"
    }
   ],
   "source": [
    "## Sum Of Odd Numbers In Given Range\n",
    "def odd_sum(a,b,s):\n",
    "    if a>b:\n",
    "        return s\n",
    "    s = s+a\n",
    "    print(a)\n",
    "    return odd_sum(a+2,b,s)\n",
    "\n",
    "x=1\n",
    "y=28\n",
    "s=0\n",
    "\n",
    "   \n",
    "odd_sum(x,y,s)"
   ]
  },
  {
   "cell_type": "code",
   "execution_count": 10,
   "metadata": {},
   "outputs": [],
   "source": [
    "##Calculate The Sum Of Odd & Even Numbers\n",
    "\n",
    "def odd_even(a,b):\n",
    "    odd = []\n",
    "    even = []\n",
    "    if a>b:\n",
    "        if a%2==0:\n",
    "            even.append(a)\n",
    "            print(a)\n",
    "        else:\n",
    "            odd.append(a)\n",
    "        return odd_even(a+1,b)\n",
    "    \n",
    "a=10\n",
    "b=100\n",
    "odd_even(a,b)\n",
    "#print(odd)"
   ]
  },
  {
   "cell_type": "code",
   "execution_count": 14,
   "metadata": {},
   "outputs": [
    {
     "name": "stdout",
     "output_type": "stream",
     "text": [
      "The gcd of 60 and 48 is : 12\n"
     ]
    }
   ],
   "source": [
    "# method to compute gcd ( recursion )\n",
    "  \n",
    "def hcf(a, b):\n",
    "    if(b == 0): \n",
    "        return a\n",
    "    else:\n",
    "        return hcf(b, a % b)\n",
    "a = 60\n",
    "b = 48\n",
    "  \n",
    "# prints 12\n",
    "print(\"The gcd of 60 and 48 is : \", end=\"\")\n",
    "print(hcf(60, 48))"
   ]
  },
  {
   "cell_type": "code",
   "execution_count": 1,
   "metadata": {},
   "outputs": [
    {
     "data": {
      "text/plain": [
       "16"
      ]
     },
     "execution_count": 1,
     "metadata": {},
     "output_type": "execute_result"
    }
   ],
   "source": [
    "##gcd of two numbers\n",
    "\n",
    "def gcd(a,b):\n",
    "    if b==0:\n",
    "        return a\n",
    "    else:\n",
    "        return gcd(b,a%b)\n",
    "        \n",
    "a= 64\n",
    "b = 48\n",
    "gcd(a,b)"
   ]
  },
  {
   "cell_type": "code",
   "execution_count": 2,
   "metadata": {},
   "outputs": [
    {
     "name": "stdout",
     "output_type": "stream",
     "text": [
      "the lcm of the two numbers is : 72\n"
     ]
    }
   ],
   "source": [
    "## LCM cannot be lessthan greater value of inputs\n",
    "\n",
    "def lcm_of_two(a,b):\n",
    "    if a>b:\n",
    "        high = a \n",
    "    else:\n",
    "        high = b \n",
    "    temp = high\n",
    "    \n",
    "    while True:\n",
    "        if high%a==0 and high%b==0:\n",
    "            print(\"the lcm of the two numbers is :\",high)\n",
    "            break\n",
    "        else:\n",
    "            high+=temp\n",
    "\n",
    "            \n",
    "            \n",
    "a = 24\n",
    "b = 36\n",
    "        \n",
    "\n",
    "lcm_of_two(a,b)"
   ]
  },
  {
   "cell_type": "code",
   "execution_count": 4,
   "metadata": {},
   "outputs": [
    {
     "data": {
      "text/plain": [
       "72"
      ]
     },
     "execution_count": 4,
     "metadata": {},
     "output_type": "execute_result"
    }
   ],
   "source": [
    "## LCM of two numbers\n",
    "\n",
    "def lcm_rec(a,b,c):\n",
    "    c = c +b\n",
    "    if c%a==0 and c%b==0:\n",
    "        return c\n",
    "    return lcm_rec(a,b,c)\n",
    "    \n",
    "a = 24\n",
    "b = 36\n",
    "c=0\n",
    "lcm_rec(a,b,c)"
   ]
  },
  {
   "cell_type": "code",
   "execution_count": null,
   "metadata": {},
   "outputs": [],
   "source": []
  },
  {
   "cell_type": "code",
   "execution_count": null,
   "metadata": {},
   "outputs": [],
   "source": []
  },
  {
   "cell_type": "code",
   "execution_count": null,
   "metadata": {},
   "outputs": [],
   "source": []
  },
  {
   "cell_type": "code",
   "execution_count": null,
   "metadata": {},
   "outputs": [],
   "source": []
  },
  {
   "cell_type": "code",
   "execution_count": null,
   "metadata": {},
   "outputs": [],
   "source": []
  },
  {
   "cell_type": "code",
   "execution_count": null,
   "metadata": {},
   "outputs": [],
   "source": []
  },
  {
   "cell_type": "code",
   "execution_count": null,
   "metadata": {},
   "outputs": [],
   "source": [
    "https://forms.gle/jw6byayKRbaY6kKu9 green chemistry"
   ]
  },
  {
   "cell_type": "code",
   "execution_count": null,
   "metadata": {},
   "outputs": [],
   "source": [
    "https://forms.gle/kKn35AD2X49X8vZZ6 ALGORITHMS"
   ]
  }
 ],
 "metadata": {
  "kernelspec": {
   "display_name": "Python 3",
   "language": "python",
   "name": "python3"
  },
  "language_info": {
   "codemirror_mode": {
    "name": "ipython",
    "version": 3
   },
   "file_extension": ".py",
   "mimetype": "text/x-python",
   "name": "python",
   "nbconvert_exporter": "python",
   "pygments_lexer": "ipython3",
   "version": "3.7.6"
  }
 },
 "nbformat": 4,
 "nbformat_minor": 4
}
