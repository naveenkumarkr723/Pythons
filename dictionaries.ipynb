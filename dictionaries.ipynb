{
 "cells": [
  {
   "cell_type": "code",
   "execution_count": 12,
   "metadata": {},
   "outputs": [
    {
     "data": {
      "text/plain": [
       "{'monday': 1,\n",
       " 'tuesday': 2,\n",
       " 'wednesday': 3,\n",
       " 'thursday': 4,\n",
       " 'friday': 5,\n",
       " 'saturday': 6,\n",
       " 'sunday': 7}"
      ]
     },
     "execution_count": 12,
     "metadata": {},
     "output_type": "execute_result"
    }
   ],
   "source": [
    "## dictionaries are assosiated data structures\n",
    "\n",
    "weekdays = {\"monday\":1,\"tuesday\":2,\"wednesday\":3,\"thursday\":4,\"friday\":5,\"saturday\":6,\"sunday\":7}\n",
    "weekdays"
   ]
  },
  {
   "cell_type": "code",
   "execution_count": 13,
   "metadata": {},
   "outputs": [
    {
     "data": {
      "text/plain": [
       "['friday', 'monday', 'saturday', 'sunday', 'thursday', 'tuesday', 'wednesday']"
      ]
     },
     "execution_count": 13,
     "metadata": {},
     "output_type": "execute_result"
    }
   ],
   "source": [
    "sorted(weekdays)"
   ]
  },
  {
   "cell_type": "code",
   "execution_count": 14,
   "metadata": {},
   "outputs": [
    {
     "data": {
      "text/plain": [
       "[1, 2, 3, 4, 5, 6, 7]"
      ]
     },
     "execution_count": 14,
     "metadata": {},
     "output_type": "execute_result"
    }
   ],
   "source": [
    "sorted(weekdays.values())"
   ]
  },
  {
   "cell_type": "code",
   "execution_count": 15,
   "metadata": {},
   "outputs": [
    {
     "data": {
      "text/plain": [
       "7"
      ]
     },
     "execution_count": 15,
     "metadata": {},
     "output_type": "execute_result"
    }
   ],
   "source": [
    "len(weekdays)"
   ]
  },
  {
   "cell_type": "code",
   "execution_count": 16,
   "metadata": {},
   "outputs": [],
   "source": [
    "del weekdays['friday']\n",
    "#weekdays"
   ]
  },
  {
   "cell_type": "code",
   "execution_count": 17,
   "metadata": {},
   "outputs": [
    {
     "data": {
      "text/plain": [
       "{'monday': 1,\n",
       " 'tuesday': 2,\n",
       " 'wednesday': 3,\n",
       " 'thursday': 4,\n",
       " 'saturday': 6,\n",
       " 'sunday': 7}"
      ]
     },
     "execution_count": 17,
     "metadata": {},
     "output_type": "execute_result"
    }
   ],
   "source": [
    "weekdays"
   ]
  },
  {
   "cell_type": "code",
   "execution_count": 19,
   "metadata": {},
   "outputs": [
    {
     "data": {
      "text/plain": [
       "True"
      ]
     },
     "execution_count": 19,
     "metadata": {},
     "output_type": "execute_result"
    }
   ],
   "source": [
    "'sunday' in weekdays"
   ]
  },
  {
   "cell_type": "code",
   "execution_count": 20,
   "metadata": {},
   "outputs": [
    {
     "data": {
      "text/plain": [
       "False"
      ]
     },
     "execution_count": 20,
     "metadata": {},
     "output_type": "execute_result"
    }
   ],
   "source": [
    "'friday' in weekdays"
   ]
  },
  {
   "cell_type": "code",
   "execution_count": 22,
   "metadata": {},
   "outputs": [
    {
     "data": {
      "text/plain": [
       "{1: 'cat', 2: 'dog', 3: 'piegeon'}"
      ]
     },
     "execution_count": 22,
     "metadata": {},
     "output_type": "execute_result"
    }
   ],
   "source": [
    "### different ways of creating dictionerys\n",
    "\n",
    "mydict = {1:\"cat\",2:\"dog\",3:\"piegeon\"}\n",
    "#mydict[4] = \"tiger\"\n",
    "#mydict[5] = \"elephant\"\n",
    "#mydict[6] = \"simbhaa\"\n",
    "\n",
    "mydict"
   ]
  },
  {
   "cell_type": "code",
   "execution_count": 23,
   "metadata": {},
   "outputs": [
    {
     "data": {
      "text/plain": [
       "{1: 'cat', 2: 'dog', 3: 'piegeon', 4: 'tiger', 5: 'elephant', 6: 'simbhaa'}"
      ]
     },
     "execution_count": 23,
     "metadata": {},
     "output_type": "execute_result"
    }
   ],
   "source": [
    "mydict[4] = \"tiger\"\n",
    "mydict[5] = \"elephant\"\n",
    "mydict[6] = \"simbhaa\"\n",
    "\n",
    "mydict"
   ]
  },
  {
   "cell_type": "code",
   "execution_count": 26,
   "metadata": {},
   "outputs": [
    {
     "data": {
      "text/plain": [
       "{1: 'naveen', 3: 'praveen', 5: 'praneeth'}"
      ]
     },
     "execution_count": 26,
     "metadata": {},
     "output_type": "execute_result"
    }
   ],
   "source": [
    "mydic = dict([(1,\"naveen\"),(3,\"praveen\"),(5,\"praneeth\")])\n",
    "mydic"
   ]
  },
  {
   "cell_type": "code",
   "execution_count": 30,
   "metadata": {},
   "outputs": [
    {
     "data": {
      "text/plain": [
       "{1: 'apple', 2: 'graphs', 3: 'oranges', 4: 'guava'}"
      ]
     },
     "execution_count": 30,
     "metadata": {},
     "output_type": "execute_result"
    }
   ],
   "source": [
    "mydct = {}\n",
    "\n",
    "ranking = [1,2,3,4]\n",
    "\n",
    "fruits = [\"apple\",\"graphs\",\"oranges\",\"guava\"]\n",
    "\n",
    "for i in range (len(ranking)):\n",
    "    mydct[ranking[i]] = fruits[i]\n",
    "    \n",
    "    \n",
    "mydct"
   ]
  },
  {
   "cell_type": "code",
   "execution_count": 35,
   "metadata": {},
   "outputs": [
    {
     "name": "stdout",
     "output_type": "stream",
     "text": [
      "graphs\n",
      "None\n"
     ]
    }
   ],
   "source": [
    "print(mydct.get(2))\n",
    "### if that key value is not present in the given dictionary it will just return None not gives an error like in normal program\n",
    "print(mydct.get(5))"
   ]
  },
  {
   "cell_type": "markdown",
   "metadata": {},
   "source": [
    "## fromkeys(iterable,value)"
   ]
  },
  {
   "cell_type": "code",
   "execution_count": 36,
   "metadata": {},
   "outputs": [
    {
     "data": {
      "text/plain": [
       "{1: None, 2: None, 3: None, 4: None, 5: None}"
      ]
     },
     "execution_count": 36,
     "metadata": {},
     "output_type": "execute_result"
    }
   ],
   "source": [
    "lis = [1,2,3,4,5]\n",
    "dict.fromkeys(lis)"
   ]
  },
  {
   "cell_type": "code",
   "execution_count": 38,
   "metadata": {},
   "outputs": [
    {
     "data": {
      "text/plain": [
       "{1: 12, 2: 12, 3: 12, 4: 12, 5: 12}"
      ]
     },
     "execution_count": 38,
     "metadata": {},
     "output_type": "execute_result"
    }
   ],
   "source": [
    "{}.fromkeys(range(1,6),12)"
   ]
  },
  {
   "cell_type": "markdown",
   "metadata": {},
   "source": [
    "## set default(key,value)\n",
    "\n",
    "- it is a dict methodwhich search for a key in a dictionary if it is present it will return the value of the key  "
   ]
  },
  {
   "cell_type": "code",
   "execution_count": 39,
   "metadata": {},
   "outputs": [
    {
     "data": {
      "text/plain": [
       "{'naveen': 49, 'vijisha': 50, 'mounika': 48}"
      ]
     },
     "execution_count": 39,
     "metadata": {},
     "output_type": "execute_result"
    }
   ],
   "source": [
    "students = {\"naveen\":49,\"vijisha\":50,\"mounika\":48}\n",
    "students"
   ]
  },
  {
   "cell_type": "code",
   "execution_count": 40,
   "metadata": {},
   "outputs": [
    {
     "data": {
      "text/plain": [
       "49"
      ]
     },
     "execution_count": 40,
     "metadata": {},
     "output_type": "execute_result"
    }
   ],
   "source": [
    "students.setdefault(\"naveen\")"
   ]
  },
  {
   "cell_type": "code",
   "execution_count": 44,
   "metadata": {},
   "outputs": [
    {
     "name": "stdout",
     "output_type": "stream",
     "text": [
      "None\n"
     ]
    },
    {
     "ename": "KeyError",
     "evalue": "'sruthi'",
     "output_type": "error",
     "traceback": [
      "\u001b[1;31m---------------------------------------------------------------------------\u001b[0m",
      "\u001b[1;31mKeyError\u001b[0m                                  Traceback (most recent call last)",
      "\u001b[1;32m<ipython-input-44-a5d0e8ac0a60>\u001b[0m in \u001b[0;36m<module>\u001b[1;34m\u001b[0m\n\u001b[0;32m      2\u001b[0m \u001b[1;33m\u001b[0m\u001b[0m\n\u001b[0;32m      3\u001b[0m \u001b[1;33m\u001b[0m\u001b[0m\n\u001b[1;32m----> 4\u001b[1;33m \u001b[0mstudents\u001b[0m\u001b[1;33m[\u001b[0m\u001b[1;34m\"sruthi\"\u001b[0m\u001b[1;33m]\u001b[0m\u001b[1;33m\u001b[0m\u001b[1;33m\u001b[0m\u001b[0m\n\u001b[0m",
      "\u001b[1;31mKeyError\u001b[0m: 'sruthi'"
     ]
    }
   ],
   "source": [
    "print(students.setdefault(\"vasundara\"))\n",
    "\n",
    "## as  sruthi is not present in given dict but vasundara as we added in dict by setdefault method\n",
    "students[\"sruthi\"]"
   ]
  },
  {
   "cell_type": "code",
   "execution_count": 45,
   "metadata": {},
   "outputs": [
    {
     "data": {
      "text/plain": [
       "{'naveen': 49, 'vijisha': 50, 'mounika': 48, 'vasundara': None}"
      ]
     },
     "execution_count": 45,
     "metadata": {},
     "output_type": "execute_result"
    }
   ],
   "source": [
    "##vasundara as we added in dict by setdefault method\n",
    "\n",
    "students"
   ]
  },
  {
   "cell_type": "code",
   "execution_count": 47,
   "metadata": {},
   "outputs": [
    {
     "data": {
      "text/plain": [
       "49"
      ]
     },
     "execution_count": 47,
     "metadata": {},
     "output_type": "execute_result"
    }
   ],
   "source": [
    "students.setdefault(\"rajasri\",49)"
   ]
  },
  {
   "cell_type": "code",
   "execution_count": 48,
   "metadata": {},
   "outputs": [
    {
     "data": {
      "text/plain": [
       "{'naveen': 49, 'vijisha': 50, 'mounika': 48, 'vasundara': None, 'rajasri': 49}"
      ]
     },
     "execution_count": 48,
     "metadata": {},
     "output_type": "execute_result"
    }
   ],
   "source": [
    "students"
   ]
  },
  {
   "cell_type": "markdown",
   "metadata": {},
   "source": [
    "## update()\n",
    "\n",
    "### Dictionary.update(dictionary)\n",
    "\n",
    "#### Dictionary is first dict,   dictionary is second dict "
   ]
  },
  {
   "cell_type": "code",
   "execution_count": 50,
   "metadata": {},
   "outputs": [
    {
     "data": {
      "text/plain": [
       "[1, 2, 3, 4, 'A', 'B', 'C', 'D']"
      ]
     },
     "execution_count": 50,
     "metadata": {},
     "output_type": "execute_result"
    }
   ],
   "source": [
    "list1 = [1,2,3,4]\n",
    "list2 = [\"A\",\"B\",\"C\",'D']\n",
    "\n",
    "students = {'naveen': 49, 'vijisha': 50, 'mounika': 48, 'vasundara': 46}\n",
    "fruits = {1: 'apple', 2: 'graphs', 3: 'oranges', 4: 'guava'}\n",
    "\n",
    "\n",
    "### we can simply concatenate the two lists \n",
    "list1 + list2"
   ]
  },
  {
   "cell_type": "code",
   "execution_count": 52,
   "metadata": {},
   "outputs": [
    {
     "ename": "TypeError",
     "evalue": "unsupported operand type(s) for +: 'dict' and 'dict'",
     "output_type": "error",
     "traceback": [
      "\u001b[1;31m---------------------------------------------------------------------------\u001b[0m",
      "\u001b[1;31mTypeError\u001b[0m                                 Traceback (most recent call last)",
      "\u001b[1;32m<ipython-input-52-74d04aca5cfc>\u001b[0m in \u001b[0;36m<module>\u001b[1;34m\u001b[0m\n\u001b[0;32m      1\u001b[0m \u001b[1;31m### but in dictionary it is not possible\u001b[0m\u001b[1;33m\u001b[0m\u001b[1;33m\u001b[0m\u001b[1;33m\u001b[0m\u001b[0m\n\u001b[1;32m----> 2\u001b[1;33m \u001b[0mstudents\u001b[0m \u001b[1;33m+\u001b[0m \u001b[0mfruits\u001b[0m\u001b[1;33m\u001b[0m\u001b[1;33m\u001b[0m\u001b[0m\n\u001b[0m",
      "\u001b[1;31mTypeError\u001b[0m: unsupported operand type(s) for +: 'dict' and 'dict'"
     ]
    }
   ],
   "source": [
    "### but in dictionary it is not possible\n",
    "students + fruits"
   ]
  },
  {
   "cell_type": "code",
   "execution_count": 55,
   "metadata": {},
   "outputs": [
    {
     "name": "stdout",
     "output_type": "stream",
     "text": [
      "{1: 'apple', 2: 'graphs', 3: 'oranges', 4: 'guava', 'naveen': 49, 'vijisha': 50, 'mounika': 48, 'vasundara': 46}\n",
      "{'naveen': 49, 'vijisha': 50, 'mounika': 48, 'vasundara': 46}\n"
     ]
    }
   ],
   "source": [
    "## but by using the update method and the values will store in first dict and second dict will remain same\n",
    "\n",
    "fruits.update(students)\n",
    "print(fruits)\n",
    "print(students)"
   ]
  },
  {
   "cell_type": "code",
   "execution_count": 59,
   "metadata": {},
   "outputs": [
    {
     "data": {
      "text/plain": [
       "{'naveen': 49, 'vijisha': 50, 'mounika': 48, 'vasundara': 46, 'uma': 47}"
      ]
     },
     "execution_count": 59,
     "metadata": {},
     "output_type": "execute_result"
    }
   ],
   "source": [
    "students = {'naveen': 49, 'vijisha': 50, 'mounika': 48, 'vasundara': 46}\n",
    "list1 = [\"uma\",47]\n",
    "\n",
    "students.update([list1])\n",
    "students"
   ]
  },
  {
   "cell_type": "code",
   "execution_count": 63,
   "metadata": {},
   "outputs": [
    {
     "data": {
      "text/plain": [
       "{'naveen': 49,\n",
       " 'vijisha': 50,\n",
       " 'mounika': 48,\n",
       " 'vasundara': 46,\n",
       " 'uma': 47,\n",
       " 'rajasri': 48,\n",
       " 'soundarya': 46}"
      ]
     },
     "execution_count": 63,
     "metadata": {},
     "output_type": "execute_result"
    }
   ],
   "source": [
    "students.update(rajasri=48,soundarya=46)\n",
    "students"
   ]
  },
  {
   "cell_type": "code",
   "execution_count": 64,
   "metadata": {},
   "outputs": [
    {
     "data": {
      "text/plain": [
       "{'naveen': 49,\n",
       " 'vijisha': 50,\n",
       " 'mounika': 48,\n",
       " 'vasundara': 46,\n",
       " 'uma': 47,\n",
       " 'rajasri': 50,\n",
       " 'soundarya': 46}"
      ]
     },
     "execution_count": 64,
     "metadata": {},
     "output_type": "execute_result"
    }
   ],
   "source": [
    "### in this see the rajasri marks are updated from 48 to 50 if keys are same in the given two dicts then it will update the \n",
    "## values of that keys\n",
    "\n",
    "students.update(rajasri=50,)\n",
    "students"
   ]
  },
  {
   "cell_type": "code",
   "execution_count": null,
   "metadata": {},
   "outputs": [],
   "source": []
  },
  {
   "cell_type": "code",
   "execution_count": 21,
   "metadata": {},
   "outputs": [
    {
     "name": "stdout",
     "output_type": "stream",
     "text": [
      "Task 3:-\n",
      "Keys and Values sorted in alphabetical order by the value\n",
      "[(1, 2), (5, 12), (6, 18), (4, 24), (2, 56), (3, 323)]\n"
     ]
    }
   ],
   "source": [
    "#Write a Python script to sort (ascending and descending) a dictionary by value. \n",
    "\n",
    "# Function calling\n",
    "def dictionairy():\n",
    "\n",
    "# Declaring hash function\n",
    "    key_value ={}\n",
    "\n",
    "# Initializing the value\n",
    "    key_value[2] = 56\n",
    "    key_value[1] = 2\n",
    "    key_value[5] = 12\n",
    "    key_value[4] = 24\n",
    "    key_value[6] = 18\n",
    "    key_value[3] = 323\n",
    "\n",
    "\n",
    "print (\"Task 3:-\\nKeys and Values sorted\",\n",
    "\"in alphabetical order by the value\")\n",
    "\n",
    "# Note that it will sort in lexicographical order\n",
    "# For mathematical way, change it to float\n",
    "\n",
    "print(sorted(key_value.items(), key = lambda kv:(kv[1], kv[0])))\n",
    "\n",
    "def main():\n",
    "# function calling\n",
    "    dictionairy()\n",
    "\n",
    "# main function calling\n",
    "if __name__==\"__main__\":\n",
    "    main()\n"
   ]
  },
  {
   "cell_type": "code",
   "execution_count": 14,
   "metadata": {},
   "outputs": [
    {
     "data": {
      "text/plain": [
       "dict_values(['five', 'two', 'three', 'one', 'four'])"
      ]
     },
     "execution_count": 14,
     "metadata": {},
     "output_type": "execute_result"
    }
   ],
   "source": [
    "mydict.values()"
   ]
  },
  {
   "cell_type": "code",
   "execution_count": 15,
   "metadata": {},
   "outputs": [
    {
     "name": "stdout",
     "output_type": "stream",
     "text": [
      "2 12 18 24 56 323 "
     ]
    }
   ],
   "source": [
    "def dictionairy():\n",
    "    \n",
    "\n",
    "    key_value ={}\n",
    "\n",
    "    key_value[2] = 56       \n",
    "    key_value[1] = 2 \n",
    "    key_value[5] = 12 \n",
    "    key_value[4] = 24\n",
    "    key_value[6] = 18      \n",
    "    key_value[3] = 323 \n",
    "\n",
    "\n",
    "\n",
    "    for i in sorted(key_value.values()):\n",
    "        print(i,end=\" \")\n",
    "        \n",
    "    \"\"\"for i in sorted (key_value) :\n",
    "        print ((i, key_value[i]), end =\" \")\"\"\"\n",
    "\n",
    "def main():\n",
    "    # function calling\n",
    "    dictionairy()             \n",
    "      \n",
    "# Main function calling\n",
    "if __name__==\"__main__\":      \n",
    "    main()"
   ]
  },
  {
   "cell_type": "code",
   "execution_count": 19,
   "metadata": {},
   "outputs": [
    {
     "data": {
      "text/plain": [
       "list"
      ]
     },
     "execution_count": 19,
     "metadata": {},
     "output_type": "execute_result"
    }
   ],
   "source": [
    "key_value.items()"
   ]
  },
  {
   "cell_type": "code",
   "execution_count": 23,
   "metadata": {},
   "outputs": [
    {
     "data": {
      "text/plain": [
       "{0: 10, 1: 20, 2: 30}"
      ]
     },
     "execution_count": 23,
     "metadata": {},
     "output_type": "execute_result"
    }
   ],
   "source": [
    "#Write a Python script to add a key to a dictionary.\n",
    "\n",
    "mydict =  {0: 10, 1: 20}\n",
    "mydict[2]=30\n",
    "mydict"
   ]
  },
  {
   "cell_type": "code",
   "execution_count": 25,
   "metadata": {},
   "outputs": [
    {
     "data": {
      "text/plain": [
       "{1: 10, 2: 20, 3: 30, 4: 40, 5: 50, 6: 60}"
      ]
     },
     "execution_count": 25,
     "metadata": {},
     "output_type": "execute_result"
    }
   ],
   "source": [
    "##Write a Python script to concatenate following dictionaries to create a new one\n",
    "\n",
    "dic1={1:10, 2:20}\n",
    "dic2={3:30, 4:40}\n",
    "dic3={5:50,6:60}\n",
    "dic={}\n",
    "for d in (dic1,dic2,dic3):\n",
    "    dic.update(d)\n",
    "dic   "
   ]
  },
  {
   "cell_type": "code",
   "execution_count": 46,
   "metadata": {},
   "outputs": [
    {
     "name": "stdout",
     "output_type": "stream",
     "text": [
      "enter the key1\n"
     ]
    }
   ],
   "source": [
    "# Write a Python script to check whether a given key already exists in a dictionary\n",
    "\n",
    "key_value ={}\n",
    "\n",
    "key_value[2] = 56       \n",
    "key_value[1] = 2 \n",
    "key_value[5] = 12 \n",
    "key_value[4] = 24\n",
    "key_value[6] = 18      \n",
    "key_value[3] = 323 \n",
    "\n",
    "\n",
    "\n",
    "key=5\n",
    "if key in key_value:\n",
    "    print(\"the given key is already present in dictionary\")\n",
    "\n",
    "    "
   ]
  },
  {
   "cell_type": "code",
   "execution_count": 49,
   "metadata": {},
   "outputs": [
    {
     "name": "stdout",
     "output_type": "stream",
     "text": [
      "2 56\n",
      "1 2\n",
      "5 12\n",
      "4 24\n",
      "6 18\n",
      "3 323\n"
     ]
    }
   ],
   "source": [
    "## Write a Python program to iterate over dictionaries using for loops.\n",
    "\n",
    "key_value ={}\n",
    "\n",
    "key_value[2] = 56       \n",
    "key_value[1] = 2 \n",
    "key_value[5] = 12 \n",
    "key_value[4] = 24\n",
    "key_value[6] = 18      \n",
    "key_value[3] = 323 \n",
    "\n",
    "for d in key_value:\n",
    "    print(d,key_value[d])"
   ]
  },
  {
   "cell_type": "code",
   "execution_count": 50,
   "metadata": {},
   "outputs": [
    {
     "name": "stdout",
     "output_type": "stream",
     "text": [
      "x -> 10\n",
      "y -> 20\n",
      "z -> 30\n"
     ]
    }
   ],
   "source": [
    "d = {'x': 10, 'y': 20, 'z': 30} \n",
    "for dict_key, dict_value in d.items():\n",
    "    print(dict_key,'->',dict_value)"
   ]
  },
  {
   "cell_type": "code",
   "execution_count": 4,
   "metadata": {},
   "outputs": [
    {
     "name": "stdout",
     "output_type": "stream",
     "text": [
      "enter the range of dictionary  : 5\n",
      "dict_items([(1, 1), (2, 4), (3, 9), (4, 16), (5, 25)])\n",
      "<class 'dict_items'>\n"
     ]
    }
   ],
   "source": [
    "## Write a Python script to generate and print a dictionary that contains a number (between 1 and n) in the form (x, x*x).\n",
    "\n",
    "mydict = {}\n",
    "\n",
    "n= int(input(\"enter the range of dictionary  : \"))\n",
    "for i in range(1,n+1):\n",
    "    \n",
    "    mydict[i] = i*i\n",
    "    \n",
    "    \n",
    "print(mydict.items())\n",
    "print(type(mydict.items()))"
   ]
  },
  {
   "cell_type": "code",
   "execution_count": 59,
   "metadata": {},
   "outputs": [
    {
     "name": "stdout",
     "output_type": "stream",
     "text": [
      "{'a': 100, 'b': 200, 'x': 300, 'y': 200}\n"
     ]
    }
   ],
   "source": [
    "# Write a Python script to merge two Python dictionaries.\n",
    "\n",
    "d1 = {'a': 100, 'b': 200}\n",
    "d2 = {'x': 300, 'y': 200}\n",
    "d = d1.copy()\n",
    "d.update(d2)\n",
    "print(d)"
   ]
  },
  {
   "cell_type": "code",
   "execution_count": 67,
   "metadata": {},
   "outputs": [
    {
     "name": "stdout",
     "output_type": "stream",
     "text": [
      "the sum of keys are 55 \n",
      " the sum of values are 729\n"
     ]
    }
   ],
   "source": [
    "## Write a Python program to sum all the items in a dictionary.\n",
    "\n",
    "s = mydict.items()\n",
    "\n",
    "key =[]\n",
    "value =[]\n",
    "for i,j in s:\n",
    "    key.append(i)\n",
    "    value.append(j)\n",
    "key_sum = sum(key)\n",
    "value_sum = sum(value)\n",
    "\n",
    "print(\"the sum of keys are\",key_sum,\"\\n\",\"the sum of values are\",value_sum)"
   ]
  },
  {
   "cell_type": "code",
   "execution_count": 77,
   "metadata": {},
   "outputs": [
    {
     "data": {
      "text/plain": [
       "{2: 56, 3: 323, 4: 24, 5: 12, 6: 18, 7: 49, 8: 64, 10: 100}"
      ]
     },
     "execution_count": 77,
     "metadata": {},
     "output_type": "execute_result"
    }
   ],
   "source": [
    "## Write a Python program to remove a key from a dictionary. \n",
    "\n",
    "#del(mydict[1])\n",
    "#del(mydict[9])\n",
    "\n",
    "mydict\n",
    "\n",
    "#we delete the 1 and 9 th keys from dictionary"
   ]
  },
  {
   "cell_type": "code",
   "execution_count": 81,
   "metadata": {},
   "outputs": [
    {
     "data": {
      "text/plain": [
       "{1: 'apple', 2: 'dog', 3: 'cat', 4: 'bat'}"
      ]
     },
     "execution_count": 81,
     "metadata": {},
     "output_type": "execute_result"
    }
   ],
   "source": [
    "#Write a Python program to map two lists into a dictionary.\n",
    "\n",
    "list1 = [1,2,3,4]\n",
    "list2 = [\"apple\",\"dog\",\"cat\",\"bat\"]\n",
    "lst_dic = {}\n",
    "for i in range(len(list1)):\n",
    "    lst_dic[list1[i]] = list2[i]\n",
    "    \n",
    "lst_dic"
   ]
  },
  {
   "cell_type": "code",
   "execution_count": 85,
   "metadata": {},
   "outputs": [
    {
     "name": "stdout",
     "output_type": "stream",
     "text": [
      "1    2\n",
      "2    56\n",
      "3    323\n",
      "4    24\n",
      "5    12\n",
      "6    18\n"
     ]
    }
   ],
   "source": [
    "## Write a Python program to sort a dictionary by key\n",
    "\n",
    "key_value ={}\n",
    "\n",
    "key_value[2] = 56       \n",
    "key_value[1] = 2 \n",
    "key_value[5] = 12 \n",
    "key_value[4] = 24\n",
    "key_value[6] = 18      \n",
    "key_value[3] = 323 \n",
    "\n",
    "for i in sorted(key_value.keys()):\n",
    "    print(i , \"  \",key_value[i])"
   ]
  },
  {
   "cell_type": "code",
   "execution_count": 89,
   "metadata": {},
   "outputs": [
    {
     "name": "stdout",
     "output_type": "stream",
     "text": [
      "\n",
      "\n",
      "{'id1': {'name': ['Sara'], 'class': ['V'], 'subject_integration': ['english, math, science']}, 'id2': {'name': ['David'], 'class': ['V'], 'subject_integration': ['english, math, science']}, 'id4': {'name': ['Surya'], 'class': ['V'], 'subject_integration': ['english, math, science']}}\n"
     ]
    }
   ],
   "source": [
    "## Write a Python program to remove duplicates from Dictionary\n",
    "\n",
    "student_data = {\n",
    "    'id1': \n",
    "   {'name': ['Sara'], \n",
    "    'class': ['V'], \n",
    "    'subject_integration': ['english, math, science']\n",
    "   },\n",
    " 'id2': \n",
    "  {'name': ['David'], \n",
    "    'class': ['V'], \n",
    "    'subject_integration': ['english, math, science']\n",
    "   },\n",
    " 'id3': \n",
    "    {'name': ['Sara'], \n",
    "    'class': ['V'], \n",
    "    'subject_integration': ['english, math, science']\n",
    "   },\n",
    " 'id4': \n",
    "   {'name': ['Surya'], \n",
    "    'class': ['V'], \n",
    "    'subject_integration': ['english, math, science']\n",
    "   },\n",
    "}\n",
    "\n",
    "result = {}\n",
    "\n",
    "for key,value in student_data.items():\n",
    "    if value not in result.values():\n",
    "        result[key] = value\n",
    "        \n",
    "print(\"\\n\")\n",
    "print(result)"
   ]
  },
  {
   "cell_type": "code",
   "execution_count": 90,
   "metadata": {},
   "outputs": [],
   "source": [
    "## Write a Python program to combine two dictionary adding values for common keys\n",
    "\n",
    "d1 = {'a': 100, 'b': 200, 'c':300}\n",
    "d2 = {'a': 300, 'b': 200, 'd':400}\n",
    "\n",
    "d={}\n",
    "for i,j in d1.items():\n",
    "    \n",
    "    \n",
    "    "
   ]
  },
  {
   "cell_type": "code",
   "execution_count": null,
   "metadata": {},
   "outputs": [],
   "source": []
  }
 ],
 "metadata": {
  "kernelspec": {
   "display_name": "Python 3",
   "language": "python",
   "name": "python3"
  },
  "language_info": {
   "codemirror_mode": {
    "name": "ipython",
    "version": 3
   },
   "file_extension": ".py",
   "mimetype": "text/x-python",
   "name": "python",
   "nbconvert_exporter": "python",
   "pygments_lexer": "ipython3",
   "version": "3.7.6"
  }
 },
 "nbformat": 4,
 "nbformat_minor": 4
}
