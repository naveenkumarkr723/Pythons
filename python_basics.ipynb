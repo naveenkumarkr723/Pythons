{
 "cells": [
  {
   "cell_type": "code",
   "execution_count": null,
   "metadata": {},
   "outputs": [],
   "source": [
    "print(\"hello world\")"
   ]
  },
  {
   "cell_type": "code",
   "execution_count": null,
   "metadata": {},
   "outputs": [],
   "source": []
  },
  {
   "cell_type": "markdown",
   "metadata": {},
   "source": [
    "## Fundamental concepts"
   ]
  },
  {
   "cell_type": "code",
   "execution_count": null,
   "metadata": {},
   "outputs": [],
   "source": [
    "## Literals \n",
    "\n",
    "1. numerical literals   ----> 4., +5,-4.1 are example of this\n",
    "2. string literals   ----> the values which are enclosed in single or double codes  are known as string literals\n",
    "\n",
    "\n",
    "\n",
    "### format\n",
    "\n",
    "1. numerical format\n",
    "2. string format\n",
    "\n",
    "\n",
    "format(value , specifier)  ---> value is which is alter , specifier is how to alter"
   ]
  },
  {
   "cell_type": "code",
   "execution_count": 1,
   "metadata": {},
   "outputs": [
    {
     "data": {
      "text/plain": [
       "'0.889'"
      ]
     },
     "execution_count": 1,
     "metadata": {},
     "output_type": "execute_result"
    }
   ],
   "source": [
    "format(8/9,\".3f\")   ## format example"
   ]
  },
  {
   "cell_type": "code",
   "execution_count": 4,
   "metadata": {},
   "outputs": [
    {
     "name": "stdout",
     "output_type": "stream",
     "text": [
      "hello\n",
      "hello                                   \n",
      "                                  hello \n",
      "            hello             \n"
     ]
    }
   ],
   "source": [
    "print(\"hello\")\n",
    "\n",
    "print(format(\"hello \",\"<40\"))\n",
    "print(format(\"hello \",\">40\"))\n",
    "print(format(\"hello \",\"^30\"))"
   ]
  },
  {
   "cell_type": "code",
   "execution_count": null,
   "metadata": {},
   "outputs": [],
   "source": []
  },
  {
   "cell_type": "markdown",
   "metadata": {},
   "source": [
    "### variables"
   ]
  },
  {
   "cell_type": "markdown",
   "metadata": {},
   "source": [
    "## Python Identifiers\n",
    "A Python identifier is a name used to identify a variable, function, class, module or other object. An identifier starts with a letter A to Z or a to z or an underscore (_) followed by zero or more letters, underscores and digits (0 to 9). ... All other identifiers start with a lowercase letter"
   ]
  },
  {
   "cell_type": "code",
   "execution_count": null,
   "metadata": {},
   "outputs": [],
   "source": [
    "var = 9\n",
    "__var  = \"navy \"\n",
    "\n",
    "#no  errors are seen while running the problem "
   ]
  },
  {
   "cell_type": "code",
   "execution_count": null,
   "metadata": {},
   "outputs": [],
   "source": [
    "5var = 9"
   ]
  },
  {
   "cell_type": "code",
   "execution_count": null,
   "metadata": {},
   "outputs": [],
   "source": [
    "var$ = 50"
   ]
  },
  {
   "cell_type": "markdown",
   "metadata": {},
   "source": [
    "## Key_Words "
   ]
  },
  {
   "cell_type": "markdown",
   "metadata": {},
   "source": [
    "https://realpython.com/python-keywords/"
   ]
  },
  {
   "cell_type": "code",
   "execution_count": 5,
   "metadata": {},
   "outputs": [
    {
     "name": "stdout",
     "output_type": "stream",
     "text": [
      "\n",
      "Here is a list of the Python keywords.  Enter any keyword to get more help.\n",
      "\n",
      "False               class               from                or\n",
      "None                continue            global              pass\n",
      "True                def                 if                  raise\n",
      "and                 del                 import              return\n",
      "as                  elif                in                  try\n",
      "assert              else                is                  while\n",
      "async               except              lambda              with\n",
      "await               finally             nonlocal            yield\n",
      "break               for                 not                 \n",
      "\n"
     ]
    }
   ],
   "source": [
    "help(\"keywords\")"
   ]
  },
  {
   "cell_type": "code",
   "execution_count": null,
   "metadata": {},
   "outputs": [],
   "source": [
    "False      await      else       import     pass\n",
    "None       break      except     in         raise\n",
    "True       class      finally    is         return\n",
    "and        continue   for        lambda     try\n",
    "as         def        from       nonlocal   while\n",
    "assert     del        global     not        with\n",
    "async      elif       if         or         yield"
   ]
  },
  {
   "cell_type": "code",
   "execution_count": 6,
   "metadata": {},
   "outputs": [
    {
     "name": "stdout",
     "output_type": "stream",
     "text": [
      "helllo naveen\n"
     ]
    }
   ],
   "source": [
    "## implicite line joining \n",
    "\n",
    "print(\"helllo \"\n",
    "     \"naveen\")"
   ]
  },
  {
   "cell_type": "code",
   "execution_count": 9,
   "metadata": {},
   "outputs": [
    {
     "name": "stdout",
     "output_type": "stream",
     "text": [
      "naveen sruthi are couples\n"
     ]
    }
   ],
   "source": [
    "### exclipcity line joining\n",
    "\n",
    "print(\"naveen \\\n",
    "sruthi are couples\")"
   ]
  },
  {
   "cell_type": "markdown",
   "metadata": {},
   "source": [
    "## operators"
   ]
  },
  {
   "cell_type": "code",
   "execution_count": null,
   "metadata": {},
   "outputs": [],
   "source": [
    "###  Based on Operands \n",
    "1. Unary Operands\n",
    "2. Binary Operands\n",
    "\n",
    "### Based on Operators\n",
    "1.Arithmetic \n",
    " \n",
    "    Negation\n",
    "    addition \n",
    "    substraction \n",
    "    multiplication\n",
    "    division \n",
    "    truncating division\n",
    "    modulus \n",
    "    exponential \n",
    "\n",
    "2.RELATIONAL OPERATORS:\n",
    "\n",
    "        1.EQUAL -->   ==\n",
    "\n",
    "        2.NOT equal-->  !=\n",
    "\n",
    "        3.Less than-->   <\n",
    "\n",
    "        4.Greater than-->  >\n",
    "\n",
    "        5.Less than or equal to-->  <=\n",
    "\n",
    "        6.Greater than or equal to-->   >=\n",
    "\n",
    "        \n",
    "3.Boolean\n",
    "    1.and   ---> short circuit evalution or lazy evolution\n",
    "    2. or \n",
    "    3. not\n",
    "\n",
    "4.Membership\n",
    "    1. in \n",
    "    2. not in \n",
    "\n",
    "\n",
    "##   2 + 4 are called expression --> (2,4) are called operands (+) are called operator "
   ]
  },
  {
   "cell_type": "code",
   "execution_count": null,
   "metadata": {},
   "outputs": [],
   "source": []
  },
  {
   "cell_type": "code",
   "execution_count": null,
   "metadata": {},
   "outputs": [],
   "source": []
  },
  {
   "cell_type": "code",
   "execution_count": null,
   "metadata": {},
   "outputs": [],
   "source": []
  },
  {
   "cell_type": "markdown",
   "metadata": {},
   "source": [
    "10 Precedence and Associativity\n",
    "\n",
    "https://www.geeksforgeeks.org/precedence-and-associativity-of-operators-in-python/"
   ]
  },
  {
   "cell_type": "code",
   "execution_count": null,
   "metadata": {},
   "outputs": [],
   "source": [
    "\n",
    "### preferences of orders\n",
    "\n",
    "1. ()\n",
    "\n",
    "2. **\n",
    "\n",
    "3. unary operator\n",
    "\n",
    "4. */ //, %\n",
    "\n",
    "5. +,-\n",
    "\n",
    "6. <<,>>\n",
    "\n",
    "7. &\n",
    "\n",
    "8. ^\n",
    "\n",
    "9. |\n",
    "\n",
    "10. relational andmembership\n",
    "\n",
    "operator\n",
    "\n",
    "11. not\n",
    "\n",
    "12. and\n",
    "\n",
    "13. or   \n",
    "\n",
    "### if all have same peference thenn it follows left --> right order"
   ]
  },
  {
   "cell_type": "code",
   "execution_count": null,
   "metadata": {},
   "outputs": [],
   "source": [
    "# 11 Input-Output function and Comments         ----> this is a comment\n",
    "\n",
    "name = input(\"Enter the Name of Student:\" )"
   ]
  },
  {
   "cell_type": "code",
   "execution_count": null,
   "metadata": {},
   "outputs": [],
   "source": [
    "print(name)"
   ]
  },
  {
   "cell_type": "code",
   "execution_count": null,
   "metadata": {},
   "outputs": [],
   "source": [
    "# 12 Control structures\n",
    "\n",
    "1. sequential controls \n",
    "\n",
    "it follows the order which you written in your programm 1st 2nd 3rd .... and so on \n",
    "\n",
    "\n",
    "2. selection controls\n",
    "\n",
    "it fully based on the selection condition if this cond or else that cond \n",
    "\n",
    "\n",
    "3. iterative controls\n",
    "\n",
    "a statement is executed until it false the statement ___> while loop is best example for this condition"
   ]
  },
  {
   "cell_type": "code",
   "execution_count": null,
   "metadata": {},
   "outputs": [],
   "source": []
  },
  {
   "cell_type": "markdown",
   "metadata": {},
   "source": [
    "## if - else and nested if else condition "
   ]
  },
  {
   "cell_type": "code",
   "execution_count": null,
   "metadata": {},
   "outputs": [],
   "source": [
    "n = int(input(\"enter the number\").strip())\n",
    "i=n\n",
    "   \n",
    "if i%2!=0:\n",
    "    print(\"weird\")      \n",
    "\n",
    "if i%2==0 and i in range(2,5):\n",
    "    print(\"not weird\")\n",
    "if i%2==0 and i in range(6,20):\n",
    "    print(\" weird\")\n",
    "if i%2==0 and i in range(20,100):\n",
    "    print(\"not weird\")\n",
    "    "
   ]
  },
  {
   "cell_type": "code",
   "execution_count": null,
   "metadata": {},
   "outputs": [],
   "source": []
  },
  {
   "cell_type": "code",
   "execution_count": null,
   "metadata": {},
   "outputs": [],
   "source": []
  },
  {
   "cell_type": "markdown",
   "metadata": {},
   "source": [
    "### Questions for these answers\n",
    "\n",
    "\n",
    "https://www.w3resource.com/python-exercises/python-basic-exercises.php"
   ]
  },
  {
   "cell_type": "code",
   "execution_count": null,
   "metadata": {},
   "outputs": [],
   "source": [
    "string  = \"Twinkle, twinkle, little star,\\n\\tHow I wonder what you are!\\n\\t\\tUp above the world so high, \\n\\t\\t\\tLike a diamond in the sky. \\nTwinkle, twinkle, little star,\\n\\t How I wonder what you are\"\n",
    "    \n",
    "print(string)"
   ]
  },
  {
   "cell_type": "code",
   "execution_count": null,
   "metadata": {},
   "outputs": [],
   "source": [
    "import sys\n",
    "\n",
    "print(\"the version of python is:\",sys.version)\n",
    "\n",
    "print(\"the version of python information :\",sys.version_info)"
   ]
  },
  {
   "cell_type": "code",
   "execution_count": null,
   "metadata": {},
   "outputs": [],
   "source": [
    "import datetime\n",
    "\n",
    "time = datetime.datetime\n",
    "\n",
    "print(\"the current time is :\",time.now())"
   ]
  },
  {
   "cell_type": "code",
   "execution_count": null,
   "metadata": {},
   "outputs": [],
   "source": [
    "import math \n",
    "pi = math.pi\n",
    "\n",
    "radius = float(input(\"enter the radius\"))\n",
    "\n",
    "print(\"the area of the circle for this radius: \", (pi)*(radius**2))"
   ]
  },
  {
   "cell_type": "code",
   "execution_count": null,
   "metadata": {},
   "outputs": [],
   "source": [
    "#fname = input(\"enter the first name\")\n",
    "#lname = input(\"enter the last name\")\n",
    "\n",
    "#full_name = fname+lname\n",
    "\n",
    "full_name  = \"naveen kumar\"\n",
    "print(\"the full name of a person : \",full_name)\n",
    "\n"
   ]
  },
  {
   "cell_type": "code",
   "execution_count": null,
   "metadata": {},
   "outputs": [],
   "source": []
  },
  {
   "cell_type": "code",
   "execution_count": null,
   "metadata": {},
   "outputs": [],
   "source": []
  },
  {
   "cell_type": "code",
   "execution_count": null,
   "metadata": {},
   "outputs": [],
   "source": []
  }
 ],
 "metadata": {
  "kernelspec": {
   "display_name": "Python 3",
   "language": "python",
   "name": "python3"
  },
  "language_info": {
   "codemirror_mode": {
    "name": "ipython",
    "version": 3
   },
   "file_extension": ".py",
   "mimetype": "text/x-python",
   "name": "python",
   "nbconvert_exporter": "python",
   "pygments_lexer": "ipython3",
   "version": "3.7.6"
  }
 },
 "nbformat": 4,
 "nbformat_minor": 4
}
